{
 "cells": [
  {
   "cell_type": "code",
   "execution_count": 1,
   "metadata": {
    "collapsed": true,
    "ExecuteTime": {
     "end_time": "2023-06-03T08:33:28.962280Z",
     "start_time": "2023-06-03T08:33:28.462910Z"
    }
   },
   "outputs": [],
   "source": [
    "import pandas as pd\n",
    "import random\n",
    "from pathlib import Path\n",
    "import numpy as np\n",
    "import psycopg2\n",
    "from datetime import date, timedelta"
   ]
  },
  {
   "cell_type": "markdown",
   "source": [
    "# Данные"
   ],
   "metadata": {
    "collapsed": false
   }
  },
  {
   "cell_type": "markdown",
   "source": [
    "## Подготовка данных для таблицы book"
   ],
   "metadata": {
    "collapsed": false
   }
  },
  {
   "cell_type": "code",
   "execution_count": 106,
   "outputs": [
    {
     "data": {
      "text/plain": "                                               book_title  book_rating  \\\n0       A Passion to Preserve: Gay Men as Keepers of C...         3.75   \n1       Culture Keepers-Florida: Oral History of the A...         0.00   \n2       Holiday Favorites: The Best of the Williams-So...         4.55   \n3       Soups, Salads & Starters: the Best of Williams...         4.70   \n4                                   Breakfasts & Brunches         3.88   \n...                                                   ...          ...   \n529995       Spacetime and Singularities: An Introduction         0.00   \n529996                                 Beyond Singularity         3.29   \n529997  The Mystery of Capital: Why Capitalism Triumph...         3.99   \n529998  Who Broke Lincoln's Thumb? (Capital Mysteries,...         4.19   \n529999    Kidnapped at the Capital (Capital Mysteries #2)         4.15   \n\n        book_publish_year  book_publish_month  book_publish_day  \\\n0                    2005                   1                 9   \n1                    2006                   5                 7   \n2                    2004                   1                 4   \n3                    2004                   1                 4   \n4                    1997                   1                 4   \n...                   ...                 ...               ...   \n529995               1989                   3                 2   \n529996               2005                   5                11   \n529997               2003                   9                 7   \n529998               2009                   2                 9   \n529999               2002                   9                 4   \n\n        book_publisher  book_num_reviews  book_page_num  \\\n0                 5435                 6            298   \n1                 1295                 0            140   \n2                22873                 2            336   \n3                  850                 2            336   \n4                24417                 0            108   \n...                ...               ...            ...   \n529995            2843                 0            192   \n529996           22329                 3            288   \n529997           17810               229            288   \n529998           16761                25             96   \n529999            2667                18             80   \n\n                                                book_desc  \n0       From large cities to rural communities, gay me...  \n1                                          No description  \n2       This collector's edition features fabulous ful...  \n3                                          No description  \n4       America's most respected cookware retailer, th...  \n...                                                   ...  \n529995                                     No description  \n529996                                     No description  \n529997                                     No description  \n529998                                     No description  \n529999                                     No description  \n\n[530000 rows x 9 columns]",
      "text/html": "<div>\n<style scoped>\n    .dataframe tbody tr th:only-of-type {\n        vertical-align: middle;\n    }\n\n    .dataframe tbody tr th {\n        vertical-align: top;\n    }\n\n    .dataframe thead th {\n        text-align: right;\n    }\n</style>\n<table border=\"1\" class=\"dataframe\">\n  <thead>\n    <tr style=\"text-align: right;\">\n      <th></th>\n      <th>book_title</th>\n      <th>book_rating</th>\n      <th>book_publish_year</th>\n      <th>book_publish_month</th>\n      <th>book_publish_day</th>\n      <th>book_publisher</th>\n      <th>book_num_reviews</th>\n      <th>book_page_num</th>\n      <th>book_desc</th>\n    </tr>\n  </thead>\n  <tbody>\n    <tr>\n      <th>0</th>\n      <td>A Passion to Preserve: Gay Men as Keepers of C...</td>\n      <td>3.75</td>\n      <td>2005</td>\n      <td>1</td>\n      <td>9</td>\n      <td>5435</td>\n      <td>6</td>\n      <td>298</td>\n      <td>From large cities to rural communities, gay me...</td>\n    </tr>\n    <tr>\n      <th>1</th>\n      <td>Culture Keepers-Florida: Oral History of the A...</td>\n      <td>0.00</td>\n      <td>2006</td>\n      <td>5</td>\n      <td>7</td>\n      <td>1295</td>\n      <td>0</td>\n      <td>140</td>\n      <td>No description</td>\n    </tr>\n    <tr>\n      <th>2</th>\n      <td>Holiday Favorites: The Best of the Williams-So...</td>\n      <td>4.55</td>\n      <td>2004</td>\n      <td>1</td>\n      <td>4</td>\n      <td>22873</td>\n      <td>2</td>\n      <td>336</td>\n      <td>This collector's edition features fabulous ful...</td>\n    </tr>\n    <tr>\n      <th>3</th>\n      <td>Soups, Salads &amp; Starters: the Best of Williams...</td>\n      <td>4.70</td>\n      <td>2004</td>\n      <td>1</td>\n      <td>4</td>\n      <td>850</td>\n      <td>2</td>\n      <td>336</td>\n      <td>No description</td>\n    </tr>\n    <tr>\n      <th>4</th>\n      <td>Breakfasts &amp; Brunches</td>\n      <td>3.88</td>\n      <td>1997</td>\n      <td>1</td>\n      <td>4</td>\n      <td>24417</td>\n      <td>0</td>\n      <td>108</td>\n      <td>America's most respected cookware retailer, th...</td>\n    </tr>\n    <tr>\n      <th>...</th>\n      <td>...</td>\n      <td>...</td>\n      <td>...</td>\n      <td>...</td>\n      <td>...</td>\n      <td>...</td>\n      <td>...</td>\n      <td>...</td>\n      <td>...</td>\n    </tr>\n    <tr>\n      <th>529995</th>\n      <td>Spacetime and Singularities: An Introduction</td>\n      <td>0.00</td>\n      <td>1989</td>\n      <td>3</td>\n      <td>2</td>\n      <td>2843</td>\n      <td>0</td>\n      <td>192</td>\n      <td>No description</td>\n    </tr>\n    <tr>\n      <th>529996</th>\n      <td>Beyond Singularity</td>\n      <td>3.29</td>\n      <td>2005</td>\n      <td>5</td>\n      <td>11</td>\n      <td>22329</td>\n      <td>3</td>\n      <td>288</td>\n      <td>No description</td>\n    </tr>\n    <tr>\n      <th>529997</th>\n      <td>The Mystery of Capital: Why Capitalism Triumph...</td>\n      <td>3.99</td>\n      <td>2003</td>\n      <td>9</td>\n      <td>7</td>\n      <td>17810</td>\n      <td>229</td>\n      <td>288</td>\n      <td>No description</td>\n    </tr>\n    <tr>\n      <th>529998</th>\n      <td>Who Broke Lincoln's Thumb? (Capital Mysteries,...</td>\n      <td>4.19</td>\n      <td>2009</td>\n      <td>2</td>\n      <td>9</td>\n      <td>16761</td>\n      <td>25</td>\n      <td>96</td>\n      <td>No description</td>\n    </tr>\n    <tr>\n      <th>529999</th>\n      <td>Kidnapped at the Capital (Capital Mysteries #2)</td>\n      <td>4.15</td>\n      <td>2002</td>\n      <td>9</td>\n      <td>4</td>\n      <td>2667</td>\n      <td>18</td>\n      <td>80</td>\n      <td>No description</td>\n    </tr>\n  </tbody>\n</table>\n<p>530000 rows × 9 columns</p>\n</div>"
     },
     "execution_count": 106,
     "metadata": {},
     "output_type": "execute_result"
    }
   ],
   "source": [
    "import time\n",
    "\n",
    "start = time.perf_counter()\n",
    "directory = Path(\"input/book\")\n",
    "book = pd.concat([pd.read_csv(f).drop(\n",
    "    ['RatingDist1', 'RatingDist4', 'RatingDistTotal', 'RatingDist2', 'RatingDist5', 'RatingDist3', 'Id'], axis=1) for f\n",
    "    in directory.glob(\"*.csv\")], ignore_index=True)\n",
    "\n",
    "# book = book.drop(['pagesNumber', 'Count of text reviews'], axis=1)\n",
    "book.Language = book.Language.fillna('eng')\n",
    "book.pagesNumber = book.pagesNumber.fillna(random.randint(250, 1500))\n",
    "book.pagesNumber = book.pagesNumber.astype('int')\n",
    "book.Publisher = book.Publisher.fillna('Alpina')\n",
    "book.Description = book.Description.fillna('No description')\n",
    "book['Genre'] = np.random.choice(\n",
    "    ['Action and Adventure', 'Classics', 'Comic Book', 'Detective', 'Mystery', 'Fantasy', 'Historical Fiction',\n",
    "     'Literary Fiction', 'Horror', 'Romance', 'Science Fiction', 'Short Stories', 'Suspense', 'Thrillers',\n",
    "     'Biographies', 'Autobiographies', 'Cookbooks', 'Essays', 'History', 'Memoir', 'Poetry', 'Self-Help', 'True Crime'],\n",
    "    len(book))\n",
    "book.ISBN = book.ISBN.fillna(random.randint(1000, 10000000))\n",
    "book = book.drop([\"ISBN\"], axis=1)\n",
    "book = book.drop([\"Count of text reviews\"], axis=1)\n",
    "\n",
    "book.loc[book['PublishYear'] > 2023, 'PublishYear'] = random.randint(1900, 2023)\n",
    "book.loc[book['PublishMonth'] > 12, 'PublishMonth'] = random.randint(1, 12)\n",
    "book.loc[book['PublishDay'] > 31, 'PublishDay'] = random.randint(1, 31)\n",
    "book.loc[(book['Language'] == \"en-US\") | (book['Language'] == \"en-GB\") | (book['Language'] == \"en-CA\") | (\n",
    "        book['Language'] == \"--\"), 'Language'] = \"eng\"\n",
    "\n",
    "book = book[:530000]\n",
    "book_copy = book.copy()\n",
    "book_copy = book_copy.drop(columns=['Authors', 'Language', 'Genre'])\n",
    "book_copy['Publisher'] = [random.randint(1, 25000) for i in range(530000)]\n",
    "book_copy.columns = ['book_title',\n",
    "                     'book_rating',\n",
    "                     'book_publish_year',\n",
    "                     'book_publish_month',\n",
    "                     'book_publish_day',\n",
    "                     'book_publisher',\n",
    "                     'book_num_reviews',\n",
    "                     'book_page_num',\n",
    "                     'book_desc']\n",
    "\n",
    "end = time.perf_counter()\n",
    "\n",
    "\n",
    "book_copy.to_csv(\"output/book.csv\", index=False)\n",
    "book_copy"
   ],
   "metadata": {
    "collapsed": false,
    "ExecuteTime": {
     "end_time": "2023-06-03T16:08:50.957938Z",
     "start_time": "2023-06-03T16:08:45.535267Z"
    }
   }
  },
  {
   "cell_type": "code",
   "execution_count": 107,
   "outputs": [
    {
     "data": {
      "text/plain": "3.160239416996774"
     },
     "execution_count": 107,
     "metadata": {},
     "output_type": "execute_result"
    }
   ],
   "source": [
    "end - start"
   ],
   "metadata": {
    "collapsed": false,
    "ExecuteTime": {
     "end_time": "2023-06-03T16:08:52.778765Z",
     "start_time": "2023-06-03T16:08:52.771242Z"
    }
   }
  },
  {
   "cell_type": "code",
   "execution_count": 92,
   "outputs": [
    {
     "data": {
      "text/plain": "                                                     Name  \\\n0       A Passion to Preserve: Gay Men as Keepers of C...   \n1       Culture Keepers-Florida: Oral History of the A...   \n2       Holiday Favorites: The Best of the Williams-So...   \n3       Soups, Salads & Starters: the Best of Williams...   \n4                                   Breakfasts & Brunches   \n...                                                   ...   \n529995       Spacetime and Singularities: An Introduction   \n529996                                 Beyond Singularity   \n529997  The Mystery of Capital: Why Capitalism Triumph...   \n529998  Who Broke Lincoln's Thumb? (Capital Mysteries,...   \n529999    Kidnapped at the Capital (Capital Mysteries #2)   \n\n                      Authors  Rating  PublishYear  PublishMonth  PublishDay  \\\n0                Will Fellows    3.75         2005             1           9   \n1       Deborah Johnson-Simon    0.00         2006             5           7   \n2             Allen Rosenberg    4.55         2004             1           4   \n3             Allan Rosenberg    4.70         2004             1           4   \n4             Time-Life Books    3.88         1997             1           4   \n...                       ...     ...          ...           ...         ...   \n529995       Gregory L. Naber    0.00         1989             3           2   \n529996              Jack Dann    3.29         2005             5          11   \n529997       Hernando de Soto    3.99         2003             9           7   \n529998                Ron Roy    4.19         2009             2           9   \n529999                Ron Roy    4.15         2002             9           4   \n\n                                   Publisher  CountsOfReview Language  \\\n0              University of Wisconsin Press               6      eng   \n1                                Authorhouse               0      eng   \n2                               Oxmoor House               2      eng   \n3                               Oxmoor House               2      eng   \n4                          Time Life Medical               0      eng   \n...                                      ...             ...      ...   \n529995            Cambridge University Press               0      eng   \n529996                                   Ace               3      eng   \n529997                           Basic Books             229      eng   \n529998  Random House Books for Young Readers              25      eng   \n529999                      Turtleback Books              18      eng   \n\n        pagesNumber                                        Description  \\\n0               298  From large cities to rural communities, gay me...   \n1               140                                     No description   \n2               336  This collector's edition features fabulous ful...   \n3               336                                     No description   \n4               108  America's most respected cookware retailer, th...   \n...             ...                                                ...   \n529995          192                                     No description   \n529996          288                                     No description   \n529997          288                                     No description   \n529998           96                                     No description   \n529999           80                                     No description   \n\n                       Genre  \n0         Historical Fiction  \n1       Action and Adventure  \n2                  Detective  \n3                  Thrillers  \n4                  Cookbooks  \n...                      ...  \n529995               Romance  \n529996                Essays  \n529997              Classics  \n529998               Romance  \n529999               Romance  \n\n[530000 rows x 12 columns]",
      "text/html": "<div>\n<style scoped>\n    .dataframe tbody tr th:only-of-type {\n        vertical-align: middle;\n    }\n\n    .dataframe tbody tr th {\n        vertical-align: top;\n    }\n\n    .dataframe thead th {\n        text-align: right;\n    }\n</style>\n<table border=\"1\" class=\"dataframe\">\n  <thead>\n    <tr style=\"text-align: right;\">\n      <th></th>\n      <th>Name</th>\n      <th>Authors</th>\n      <th>Rating</th>\n      <th>PublishYear</th>\n      <th>PublishMonth</th>\n      <th>PublishDay</th>\n      <th>Publisher</th>\n      <th>CountsOfReview</th>\n      <th>Language</th>\n      <th>pagesNumber</th>\n      <th>Description</th>\n      <th>Genre</th>\n    </tr>\n  </thead>\n  <tbody>\n    <tr>\n      <th>0</th>\n      <td>A Passion to Preserve: Gay Men as Keepers of C...</td>\n      <td>Will Fellows</td>\n      <td>3.75</td>\n      <td>2005</td>\n      <td>1</td>\n      <td>9</td>\n      <td>University of Wisconsin Press</td>\n      <td>6</td>\n      <td>eng</td>\n      <td>298</td>\n      <td>From large cities to rural communities, gay me...</td>\n      <td>Historical Fiction</td>\n    </tr>\n    <tr>\n      <th>1</th>\n      <td>Culture Keepers-Florida: Oral History of the A...</td>\n      <td>Deborah Johnson-Simon</td>\n      <td>0.00</td>\n      <td>2006</td>\n      <td>5</td>\n      <td>7</td>\n      <td>Authorhouse</td>\n      <td>0</td>\n      <td>eng</td>\n      <td>140</td>\n      <td>No description</td>\n      <td>Action and Adventure</td>\n    </tr>\n    <tr>\n      <th>2</th>\n      <td>Holiday Favorites: The Best of the Williams-So...</td>\n      <td>Allen Rosenberg</td>\n      <td>4.55</td>\n      <td>2004</td>\n      <td>1</td>\n      <td>4</td>\n      <td>Oxmoor House</td>\n      <td>2</td>\n      <td>eng</td>\n      <td>336</td>\n      <td>This collector's edition features fabulous ful...</td>\n      <td>Detective</td>\n    </tr>\n    <tr>\n      <th>3</th>\n      <td>Soups, Salads &amp; Starters: the Best of Williams...</td>\n      <td>Allan Rosenberg</td>\n      <td>4.70</td>\n      <td>2004</td>\n      <td>1</td>\n      <td>4</td>\n      <td>Oxmoor House</td>\n      <td>2</td>\n      <td>eng</td>\n      <td>336</td>\n      <td>No description</td>\n      <td>Thrillers</td>\n    </tr>\n    <tr>\n      <th>4</th>\n      <td>Breakfasts &amp; Brunches</td>\n      <td>Time-Life Books</td>\n      <td>3.88</td>\n      <td>1997</td>\n      <td>1</td>\n      <td>4</td>\n      <td>Time Life Medical</td>\n      <td>0</td>\n      <td>eng</td>\n      <td>108</td>\n      <td>America's most respected cookware retailer, th...</td>\n      <td>Cookbooks</td>\n    </tr>\n    <tr>\n      <th>...</th>\n      <td>...</td>\n      <td>...</td>\n      <td>...</td>\n      <td>...</td>\n      <td>...</td>\n      <td>...</td>\n      <td>...</td>\n      <td>...</td>\n      <td>...</td>\n      <td>...</td>\n      <td>...</td>\n      <td>...</td>\n    </tr>\n    <tr>\n      <th>529995</th>\n      <td>Spacetime and Singularities: An Introduction</td>\n      <td>Gregory L. Naber</td>\n      <td>0.00</td>\n      <td>1989</td>\n      <td>3</td>\n      <td>2</td>\n      <td>Cambridge University Press</td>\n      <td>0</td>\n      <td>eng</td>\n      <td>192</td>\n      <td>No description</td>\n      <td>Romance</td>\n    </tr>\n    <tr>\n      <th>529996</th>\n      <td>Beyond Singularity</td>\n      <td>Jack Dann</td>\n      <td>3.29</td>\n      <td>2005</td>\n      <td>5</td>\n      <td>11</td>\n      <td>Ace</td>\n      <td>3</td>\n      <td>eng</td>\n      <td>288</td>\n      <td>No description</td>\n      <td>Essays</td>\n    </tr>\n    <tr>\n      <th>529997</th>\n      <td>The Mystery of Capital: Why Capitalism Triumph...</td>\n      <td>Hernando de Soto</td>\n      <td>3.99</td>\n      <td>2003</td>\n      <td>9</td>\n      <td>7</td>\n      <td>Basic Books</td>\n      <td>229</td>\n      <td>eng</td>\n      <td>288</td>\n      <td>No description</td>\n      <td>Classics</td>\n    </tr>\n    <tr>\n      <th>529998</th>\n      <td>Who Broke Lincoln's Thumb? (Capital Mysteries,...</td>\n      <td>Ron Roy</td>\n      <td>4.19</td>\n      <td>2009</td>\n      <td>2</td>\n      <td>9</td>\n      <td>Random House Books for Young Readers</td>\n      <td>25</td>\n      <td>eng</td>\n      <td>96</td>\n      <td>No description</td>\n      <td>Romance</td>\n    </tr>\n    <tr>\n      <th>529999</th>\n      <td>Kidnapped at the Capital (Capital Mysteries #2)</td>\n      <td>Ron Roy</td>\n      <td>4.15</td>\n      <td>2002</td>\n      <td>9</td>\n      <td>4</td>\n      <td>Turtleback Books</td>\n      <td>18</td>\n      <td>eng</td>\n      <td>80</td>\n      <td>No description</td>\n      <td>Romance</td>\n    </tr>\n  </tbody>\n</table>\n<p>530000 rows × 12 columns</p>\n</div>"
     },
     "execution_count": 92,
     "metadata": {},
     "output_type": "execute_result"
    }
   ],
   "source": [
    "book"
   ],
   "metadata": {
    "collapsed": false,
    "ExecuteTime": {
     "end_time": "2023-06-03T10:37:42.204959Z",
     "start_time": "2023-06-03T10:37:42.199384Z"
    }
   }
  },
  {
   "cell_type": "markdown",
   "source": [
    "## Данные для таблиц\n",
    "- book\n",
    "- book_genre\n",
    "- book_lang\n",
    "- book_publisher\n",
    "- book_author\n",
    "- people"
   ],
   "metadata": {
    "collapsed": false
   }
  },
  {
   "cell_type": "code",
   "execution_count": 93,
   "outputs": [
    {
     "data": {
      "text/plain": "    people_name people_surname people_patronymic  people_sex  people_address  \\\n0      Смирнова       Василиса         Ильинична       False           29898   \n1        Агеева          Софья        Богдановна       False            3371   \n2         Шаров        Серафим         Матвеевич        True           12840   \n3       Кузьмин         Сергей     Александрович        True           25615   \n4      Дмитриев        Дмитрий         Матвеевич        True           16987   \n..          ...            ...               ...         ...             ...   \n595    Родионов         Михаил        Кириллович        True           21349   \n596     Иванова         Таисия    Константиновна       False            6154   \n597    Захарова       Вероника         Никитична       False            4292   \n598   Алексеева          Софья     Александровна       False           36379   \n599     Аникина       Серафима        Тимофеевна       False             372   \n\n     people_tel_num  people_pass_num       people_email  \\\n0       89033145411        925939686  WCqrwQt@gmail.com   \n1       89381441972        711677008  lFCcowh@gmail.com   \n2       89261018416        268211781  NMUiAFV@gmail.com   \n3       89087820193        827177289  YluEWgP@gmail.com   \n4       89061300797        139357065  FTfOamu@gmail.com   \n..              ...              ...                ...   \n595     89154519656        707633276  YwcfDHk@gmail.com   \n596     89084529387        604052901  YwgBXat@gmail.com   \n597     89722432181        859247677  KAEWcPZ@gmail.com   \n598     89256447348        983521962  VnKQIuq@gmail.com   \n599     89416769540        475438055  ZTKdTkr@gmail.com   \n\n                                       people_password  people_role  \n0    sha256$KtgqliGrYB8CunoE$da1e64258cd1a5c7585bd6...            1  \n1    sha256$cfOLtho3B2hDhbd3$c29e9373a8a657b2eb7ff4...            1  \n2    sha256$9fx2xFMpypSp6VKZ$82199d91b9928df343380a...            1  \n3    sha256$DB7H3IVRglvAhOPs$7deff9098db7a4ba9d1f2e...            1  \n4    sha256$uvcfkAmxlUFMNBsk$5f4cd29e76f01537070c56...            1  \n..                                                 ...          ...  \n595  sha256$hEqIXyb4JYn45AhT$a952d51fbbb442271ae480...            1  \n596  sha256$CzV7dbPIzQQWaTBb$862e0c78d847389f346709...            1  \n597  sha256$Z9kks7LMmJ86nymt$55d2e005754da9daeb67f3...            1  \n598  sha256$NV2z2rfmOkU7m6sV$0e30cbbda3979267387659...            1  \n599  sha256$wx2qcFZiSyEBeNNV$646aa8836d76c6867bab2f...            1  \n\n[600 rows x 10 columns]",
      "text/html": "<div>\n<style scoped>\n    .dataframe tbody tr th:only-of-type {\n        vertical-align: middle;\n    }\n\n    .dataframe tbody tr th {\n        vertical-align: top;\n    }\n\n    .dataframe thead th {\n        text-align: right;\n    }\n</style>\n<table border=\"1\" class=\"dataframe\">\n  <thead>\n    <tr style=\"text-align: right;\">\n      <th></th>\n      <th>people_name</th>\n      <th>people_surname</th>\n      <th>people_patronymic</th>\n      <th>people_sex</th>\n      <th>people_address</th>\n      <th>people_tel_num</th>\n      <th>people_pass_num</th>\n      <th>people_email</th>\n      <th>people_password</th>\n      <th>people_role</th>\n    </tr>\n  </thead>\n  <tbody>\n    <tr>\n      <th>0</th>\n      <td>Смирнова</td>\n      <td>Василиса</td>\n      <td>Ильинична</td>\n      <td>False</td>\n      <td>29898</td>\n      <td>89033145411</td>\n      <td>925939686</td>\n      <td>WCqrwQt@gmail.com</td>\n      <td>sha256$KtgqliGrYB8CunoE$da1e64258cd1a5c7585bd6...</td>\n      <td>1</td>\n    </tr>\n    <tr>\n      <th>1</th>\n      <td>Агеева</td>\n      <td>Софья</td>\n      <td>Богдановна</td>\n      <td>False</td>\n      <td>3371</td>\n      <td>89381441972</td>\n      <td>711677008</td>\n      <td>lFCcowh@gmail.com</td>\n      <td>sha256$cfOLtho3B2hDhbd3$c29e9373a8a657b2eb7ff4...</td>\n      <td>1</td>\n    </tr>\n    <tr>\n      <th>2</th>\n      <td>Шаров</td>\n      <td>Серафим</td>\n      <td>Матвеевич</td>\n      <td>True</td>\n      <td>12840</td>\n      <td>89261018416</td>\n      <td>268211781</td>\n      <td>NMUiAFV@gmail.com</td>\n      <td>sha256$9fx2xFMpypSp6VKZ$82199d91b9928df343380a...</td>\n      <td>1</td>\n    </tr>\n    <tr>\n      <th>3</th>\n      <td>Кузьмин</td>\n      <td>Сергей</td>\n      <td>Александрович</td>\n      <td>True</td>\n      <td>25615</td>\n      <td>89087820193</td>\n      <td>827177289</td>\n      <td>YluEWgP@gmail.com</td>\n      <td>sha256$DB7H3IVRglvAhOPs$7deff9098db7a4ba9d1f2e...</td>\n      <td>1</td>\n    </tr>\n    <tr>\n      <th>4</th>\n      <td>Дмитриев</td>\n      <td>Дмитрий</td>\n      <td>Матвеевич</td>\n      <td>True</td>\n      <td>16987</td>\n      <td>89061300797</td>\n      <td>139357065</td>\n      <td>FTfOamu@gmail.com</td>\n      <td>sha256$uvcfkAmxlUFMNBsk$5f4cd29e76f01537070c56...</td>\n      <td>1</td>\n    </tr>\n    <tr>\n      <th>...</th>\n      <td>...</td>\n      <td>...</td>\n      <td>...</td>\n      <td>...</td>\n      <td>...</td>\n      <td>...</td>\n      <td>...</td>\n      <td>...</td>\n      <td>...</td>\n      <td>...</td>\n    </tr>\n    <tr>\n      <th>595</th>\n      <td>Родионов</td>\n      <td>Михаил</td>\n      <td>Кириллович</td>\n      <td>True</td>\n      <td>21349</td>\n      <td>89154519656</td>\n      <td>707633276</td>\n      <td>YwcfDHk@gmail.com</td>\n      <td>sha256$hEqIXyb4JYn45AhT$a952d51fbbb442271ae480...</td>\n      <td>1</td>\n    </tr>\n    <tr>\n      <th>596</th>\n      <td>Иванова</td>\n      <td>Таисия</td>\n      <td>Константиновна</td>\n      <td>False</td>\n      <td>6154</td>\n      <td>89084529387</td>\n      <td>604052901</td>\n      <td>YwgBXat@gmail.com</td>\n      <td>sha256$CzV7dbPIzQQWaTBb$862e0c78d847389f346709...</td>\n      <td>1</td>\n    </tr>\n    <tr>\n      <th>597</th>\n      <td>Захарова</td>\n      <td>Вероника</td>\n      <td>Никитична</td>\n      <td>False</td>\n      <td>4292</td>\n      <td>89722432181</td>\n      <td>859247677</td>\n      <td>KAEWcPZ@gmail.com</td>\n      <td>sha256$Z9kks7LMmJ86nymt$55d2e005754da9daeb67f3...</td>\n      <td>1</td>\n    </tr>\n    <tr>\n      <th>598</th>\n      <td>Алексеева</td>\n      <td>Софья</td>\n      <td>Александровна</td>\n      <td>False</td>\n      <td>36379</td>\n      <td>89256447348</td>\n      <td>983521962</td>\n      <td>VnKQIuq@gmail.com</td>\n      <td>sha256$NV2z2rfmOkU7m6sV$0e30cbbda3979267387659...</td>\n      <td>1</td>\n    </tr>\n    <tr>\n      <th>599</th>\n      <td>Аникина</td>\n      <td>Серафима</td>\n      <td>Тимофеевна</td>\n      <td>False</td>\n      <td>372</td>\n      <td>89416769540</td>\n      <td>475438055</td>\n      <td>ZTKdTkr@gmail.com</td>\n      <td>sha256$wx2qcFZiSyEBeNNV$646aa8836d76c6867bab2f...</td>\n      <td>1</td>\n    </tr>\n  </tbody>\n</table>\n<p>600 rows × 10 columns</p>\n</div>"
     },
     "execution_count": 93,
     "metadata": {},
     "output_type": "execute_result"
    }
   ],
   "source": [
    "people = pd.read_csv(\"output/people.csv\")\n",
    "people"
   ],
   "metadata": {
    "collapsed": false,
    "ExecuteTime": {
     "end_time": "2023-06-03T10:37:42.244918Z",
     "start_time": "2023-06-03T10:37:42.205844Z"
    }
   }
  },
  {
   "cell_type": "code",
   "execution_count": 94,
   "outputs": [
    {
     "data": {
      "text/plain": "                  author_name  author_sex\n0                Will Fellows        True\n1       Deborah Johnson-Simon        True\n2             Allen Rosenberg       False\n3             Allan Rosenberg        True\n4             Time-Life Books        True\n...                       ...         ...\n219995            Moody Adams       False\n219996         Sam R. Watkins        True\n219997       Bell Irvin Wiley       False\n219998       Alexander Hunter       False\n219999        Michael  Mcafee       False\n\n[220000 rows x 2 columns]",
      "text/html": "<div>\n<style scoped>\n    .dataframe tbody tr th:only-of-type {\n        vertical-align: middle;\n    }\n\n    .dataframe tbody tr th {\n        vertical-align: top;\n    }\n\n    .dataframe thead th {\n        text-align: right;\n    }\n</style>\n<table border=\"1\" class=\"dataframe\">\n  <thead>\n    <tr style=\"text-align: right;\">\n      <th></th>\n      <th>author_name</th>\n      <th>author_sex</th>\n    </tr>\n  </thead>\n  <tbody>\n    <tr>\n      <th>0</th>\n      <td>Will Fellows</td>\n      <td>True</td>\n    </tr>\n    <tr>\n      <th>1</th>\n      <td>Deborah Johnson-Simon</td>\n      <td>True</td>\n    </tr>\n    <tr>\n      <th>2</th>\n      <td>Allen Rosenberg</td>\n      <td>False</td>\n    </tr>\n    <tr>\n      <th>3</th>\n      <td>Allan Rosenberg</td>\n      <td>True</td>\n    </tr>\n    <tr>\n      <th>4</th>\n      <td>Time-Life Books</td>\n      <td>True</td>\n    </tr>\n    <tr>\n      <th>...</th>\n      <td>...</td>\n      <td>...</td>\n    </tr>\n    <tr>\n      <th>219995</th>\n      <td>Moody Adams</td>\n      <td>False</td>\n    </tr>\n    <tr>\n      <th>219996</th>\n      <td>Sam R. Watkins</td>\n      <td>True</td>\n    </tr>\n    <tr>\n      <th>219997</th>\n      <td>Bell Irvin Wiley</td>\n      <td>False</td>\n    </tr>\n    <tr>\n      <th>219998</th>\n      <td>Alexander Hunter</td>\n      <td>False</td>\n    </tr>\n    <tr>\n      <th>219999</th>\n      <td>Michael  Mcafee</td>\n      <td>False</td>\n    </tr>\n  </tbody>\n</table>\n<p>220000 rows × 2 columns</p>\n</div>"
     },
     "execution_count": 94,
     "metadata": {},
     "output_type": "execute_result"
    }
   ],
   "source": [
    "book_author = pd.DataFrame(data=book.Authors.unique(), columns=['author_name'])\n",
    "author_sex = [random.choice([True, False]) for i in range(book_author.count()[0])]\n",
    "book_author['author_sex'] = author_sex\n",
    "book_author = book_author[:220000]\n",
    "book_author.to_csv(\"output/book_author.csv\", index=False)\n",
    "book_author"
   ],
   "metadata": {
    "collapsed": false,
    "ExecuteTime": {
     "end_time": "2023-06-03T10:37:42.596915Z",
     "start_time": "2023-06-03T10:37:42.256771Z"
    }
   }
  },
  {
   "cell_type": "code",
   "execution_count": 95,
   "outputs": [
    {
     "data": {
      "text/plain": "       book_book_id book_author_author_id\n0            394874                210216\n1            244210                 36549\n2            408777                167061\n3            299096                175919\n4             88178                  6254\n...             ...                   ...\n529995       304638                 96816\n529996       457826                 46727\n529997       353669                191412\n529998        62582                 70032\n529999       444462                117903\n\n[530000 rows x 2 columns]",
      "text/html": "<div>\n<style scoped>\n    .dataframe tbody tr th:only-of-type {\n        vertical-align: middle;\n    }\n\n    .dataframe tbody tr th {\n        vertical-align: top;\n    }\n\n    .dataframe thead tr th {\n        text-align: left;\n    }\n</style>\n<table border=\"1\" class=\"dataframe\">\n  <thead>\n    <tr>\n      <th></th>\n      <th>book_book_id</th>\n      <th>book_author_author_id</th>\n    </tr>\n  </thead>\n  <tbody>\n    <tr>\n      <th>0</th>\n      <td>394874</td>\n      <td>210216</td>\n    </tr>\n    <tr>\n      <th>1</th>\n      <td>244210</td>\n      <td>36549</td>\n    </tr>\n    <tr>\n      <th>2</th>\n      <td>408777</td>\n      <td>167061</td>\n    </tr>\n    <tr>\n      <th>3</th>\n      <td>299096</td>\n      <td>175919</td>\n    </tr>\n    <tr>\n      <th>4</th>\n      <td>88178</td>\n      <td>6254</td>\n    </tr>\n    <tr>\n      <th>...</th>\n      <td>...</td>\n      <td>...</td>\n    </tr>\n    <tr>\n      <th>529995</th>\n      <td>304638</td>\n      <td>96816</td>\n    </tr>\n    <tr>\n      <th>529996</th>\n      <td>457826</td>\n      <td>46727</td>\n    </tr>\n    <tr>\n      <th>529997</th>\n      <td>353669</td>\n      <td>191412</td>\n    </tr>\n    <tr>\n      <th>529998</th>\n      <td>62582</td>\n      <td>70032</td>\n    </tr>\n    <tr>\n      <th>529999</th>\n      <td>444462</td>\n      <td>117903</td>\n    </tr>\n  </tbody>\n</table>\n<p>530000 rows × 2 columns</p>\n</div>"
     },
     "execution_count": 95,
     "metadata": {},
     "output_type": "execute_result"
    }
   ],
   "source": [
    "book_book_author = pd.DataFrame(columns=[['book_book_id', 'book_author_author_id']])\n",
    "book_book_id = [random.randint(1, 530000) for i in range(530000)]\n",
    "book_author_author_id = [random.randint(1, 220000) for i in range(530000)]\n",
    "book_book_author['book_book_id'] = book_book_id\n",
    "book_book_author['book_author_author_id'] = book_author_author_id\n",
    "book_book_author.to_csv(\"output/book_book_author.csv\", index=False)\n",
    "book_book_author"
   ],
   "metadata": {
    "collapsed": false,
    "ExecuteTime": {
     "end_time": "2023-06-03T10:37:43.992332Z",
     "start_time": "2023-06-03T10:37:42.597449Z"
    }
   }
  },
  {
   "cell_type": "code",
   "execution_count": 96,
   "outputs": [
    {
     "data": {
      "text/plain": "             genre_title\n0     Historical Fiction\n1   Action and Adventure\n2              Detective\n3              Thrillers\n4              Cookbooks\n5                 Horror\n6                 Essays\n7               Classics\n8       Literary Fiction\n9                 Memoir\n10           Biographies\n11             Self-Help\n12            True Crime\n13            Comic Book\n14              Suspense\n15               History\n16       Science Fiction\n17       Autobiographies\n18                Poetry\n19               Romance\n20         Short Stories\n21               Fantasy\n22               Mystery",
      "text/html": "<div>\n<style scoped>\n    .dataframe tbody tr th:only-of-type {\n        vertical-align: middle;\n    }\n\n    .dataframe tbody tr th {\n        vertical-align: top;\n    }\n\n    .dataframe thead th {\n        text-align: right;\n    }\n</style>\n<table border=\"1\" class=\"dataframe\">\n  <thead>\n    <tr style=\"text-align: right;\">\n      <th></th>\n      <th>genre_title</th>\n    </tr>\n  </thead>\n  <tbody>\n    <tr>\n      <th>0</th>\n      <td>Historical Fiction</td>\n    </tr>\n    <tr>\n      <th>1</th>\n      <td>Action and Adventure</td>\n    </tr>\n    <tr>\n      <th>2</th>\n      <td>Detective</td>\n    </tr>\n    <tr>\n      <th>3</th>\n      <td>Thrillers</td>\n    </tr>\n    <tr>\n      <th>4</th>\n      <td>Cookbooks</td>\n    </tr>\n    <tr>\n      <th>5</th>\n      <td>Horror</td>\n    </tr>\n    <tr>\n      <th>6</th>\n      <td>Essays</td>\n    </tr>\n    <tr>\n      <th>7</th>\n      <td>Classics</td>\n    </tr>\n    <tr>\n      <th>8</th>\n      <td>Literary Fiction</td>\n    </tr>\n    <tr>\n      <th>9</th>\n      <td>Memoir</td>\n    </tr>\n    <tr>\n      <th>10</th>\n      <td>Biographies</td>\n    </tr>\n    <tr>\n      <th>11</th>\n      <td>Self-Help</td>\n    </tr>\n    <tr>\n      <th>12</th>\n      <td>True Crime</td>\n    </tr>\n    <tr>\n      <th>13</th>\n      <td>Comic Book</td>\n    </tr>\n    <tr>\n      <th>14</th>\n      <td>Suspense</td>\n    </tr>\n    <tr>\n      <th>15</th>\n      <td>History</td>\n    </tr>\n    <tr>\n      <th>16</th>\n      <td>Science Fiction</td>\n    </tr>\n    <tr>\n      <th>17</th>\n      <td>Autobiographies</td>\n    </tr>\n    <tr>\n      <th>18</th>\n      <td>Poetry</td>\n    </tr>\n    <tr>\n      <th>19</th>\n      <td>Romance</td>\n    </tr>\n    <tr>\n      <th>20</th>\n      <td>Short Stories</td>\n    </tr>\n    <tr>\n      <th>21</th>\n      <td>Fantasy</td>\n    </tr>\n    <tr>\n      <th>22</th>\n      <td>Mystery</td>\n    </tr>\n  </tbody>\n</table>\n</div>"
     },
     "execution_count": 96,
     "metadata": {},
     "output_type": "execute_result"
    }
   ],
   "source": [
    "book_genre = pd.DataFrame(data=book.Genre.unique(), columns=['genre_title'])\n",
    "book_genre.to_csv(\"output/book_genre.csv\", index=False)\n",
    "book_genre"
   ],
   "metadata": {
    "collapsed": false,
    "ExecuteTime": {
     "end_time": "2023-06-03T10:37:44.092800Z",
     "start_time": "2023-06-03T10:37:44.025080Z"
    }
   }
  },
  {
   "cell_type": "code",
   "execution_count": 97,
   "outputs": [
    {
     "data": {
      "text/plain": "       book_book_id book_genre_genre_id\n0            150710                  23\n1            475457                  22\n2             13422                   8\n3            157262                   3\n4            422887                   4\n...             ...                 ...\n529995       164764                   9\n529996       267029                   2\n529997        24876                  10\n529998       469986                  15\n529999       308171                  23\n\n[530000 rows x 2 columns]",
      "text/html": "<div>\n<style scoped>\n    .dataframe tbody tr th:only-of-type {\n        vertical-align: middle;\n    }\n\n    .dataframe tbody tr th {\n        vertical-align: top;\n    }\n\n    .dataframe thead tr th {\n        text-align: left;\n    }\n</style>\n<table border=\"1\" class=\"dataframe\">\n  <thead>\n    <tr>\n      <th></th>\n      <th>book_book_id</th>\n      <th>book_genre_genre_id</th>\n    </tr>\n  </thead>\n  <tbody>\n    <tr>\n      <th>0</th>\n      <td>150710</td>\n      <td>23</td>\n    </tr>\n    <tr>\n      <th>1</th>\n      <td>475457</td>\n      <td>22</td>\n    </tr>\n    <tr>\n      <th>2</th>\n      <td>13422</td>\n      <td>8</td>\n    </tr>\n    <tr>\n      <th>3</th>\n      <td>157262</td>\n      <td>3</td>\n    </tr>\n    <tr>\n      <th>4</th>\n      <td>422887</td>\n      <td>4</td>\n    </tr>\n    <tr>\n      <th>...</th>\n      <td>...</td>\n      <td>...</td>\n    </tr>\n    <tr>\n      <th>529995</th>\n      <td>164764</td>\n      <td>9</td>\n    </tr>\n    <tr>\n      <th>529996</th>\n      <td>267029</td>\n      <td>2</td>\n    </tr>\n    <tr>\n      <th>529997</th>\n      <td>24876</td>\n      <td>10</td>\n    </tr>\n    <tr>\n      <th>529998</th>\n      <td>469986</td>\n      <td>15</td>\n    </tr>\n    <tr>\n      <th>529999</th>\n      <td>308171</td>\n      <td>23</td>\n    </tr>\n  </tbody>\n</table>\n<p>530000 rows × 2 columns</p>\n</div>"
     },
     "execution_count": 97,
     "metadata": {},
     "output_type": "execute_result"
    }
   ],
   "source": [
    "book_book_genre = pd.DataFrame(columns=[['book_book_id', 'book_genre_genre_id']])\n",
    "book_book_id = [random.randint(1, 530000) for i in range(530000)]\n",
    "book_genre_genre_id = [random.randint(1, 23) for i in range(530000)]\n",
    "book_book_genre['book_book_id'] = book_book_id\n",
    "book_book_genre['book_genre_genre_id'] = book_genre_genre_id\n",
    "book_book_genre.to_csv(\"output/book_book_genre.csv\", index=False)\n",
    "book_book_genre"
   ],
   "metadata": {
    "collapsed": false,
    "ExecuteTime": {
     "end_time": "2023-06-03T10:37:45.454760Z",
     "start_time": "2023-06-03T10:37:44.055207Z"
    }
   }
  },
  {
   "cell_type": "code",
   "execution_count": 98,
   "outputs": [
    {
     "data": {
      "text/plain": "   lang_title\n0         eng\n1         ita\n2         spa\n3         fre\n4         eus\n5         ger\n6         jpn\n7         mul\n8         per\n9         tha\n10        ara\n11         nl\n12        por\n13        rus\n14        tur\n15        zho\n16        grc\n17        sco\n18        urd\n19        swe\n20        cze\n21        gle\n22        glg\n23        lat\n24        frs\n25        wak\n26        gla\n27        rum\n28        heb\n29        enm\n30        hun\n31        fin\n32        kor\n33        guj\n34        chp\n35        raj\n36        msa\n37        hin\n38        ind\n39        pol\n40        wel\n41        nav\n42        nor\n43        myn\n44        gre\n45        elx\n46        afr\n47        cat\n48        srp\n49        fan\n50        est\n51        hye\n52        tlh\n53        ang\n54        nub\n55        dan\n56        tam\n57        scr\n58        ypk\n59        lao",
      "text/html": "<div>\n<style scoped>\n    .dataframe tbody tr th:only-of-type {\n        vertical-align: middle;\n    }\n\n    .dataframe tbody tr th {\n        vertical-align: top;\n    }\n\n    .dataframe thead th {\n        text-align: right;\n    }\n</style>\n<table border=\"1\" class=\"dataframe\">\n  <thead>\n    <tr style=\"text-align: right;\">\n      <th></th>\n      <th>lang_title</th>\n    </tr>\n  </thead>\n  <tbody>\n    <tr>\n      <th>0</th>\n      <td>eng</td>\n    </tr>\n    <tr>\n      <th>1</th>\n      <td>ita</td>\n    </tr>\n    <tr>\n      <th>2</th>\n      <td>spa</td>\n    </tr>\n    <tr>\n      <th>3</th>\n      <td>fre</td>\n    </tr>\n    <tr>\n      <th>4</th>\n      <td>eus</td>\n    </tr>\n    <tr>\n      <th>5</th>\n      <td>ger</td>\n    </tr>\n    <tr>\n      <th>6</th>\n      <td>jpn</td>\n    </tr>\n    <tr>\n      <th>7</th>\n      <td>mul</td>\n    </tr>\n    <tr>\n      <th>8</th>\n      <td>per</td>\n    </tr>\n    <tr>\n      <th>9</th>\n      <td>tha</td>\n    </tr>\n    <tr>\n      <th>10</th>\n      <td>ara</td>\n    </tr>\n    <tr>\n      <th>11</th>\n      <td>nl</td>\n    </tr>\n    <tr>\n      <th>12</th>\n      <td>por</td>\n    </tr>\n    <tr>\n      <th>13</th>\n      <td>rus</td>\n    </tr>\n    <tr>\n      <th>14</th>\n      <td>tur</td>\n    </tr>\n    <tr>\n      <th>15</th>\n      <td>zho</td>\n    </tr>\n    <tr>\n      <th>16</th>\n      <td>grc</td>\n    </tr>\n    <tr>\n      <th>17</th>\n      <td>sco</td>\n    </tr>\n    <tr>\n      <th>18</th>\n      <td>urd</td>\n    </tr>\n    <tr>\n      <th>19</th>\n      <td>swe</td>\n    </tr>\n    <tr>\n      <th>20</th>\n      <td>cze</td>\n    </tr>\n    <tr>\n      <th>21</th>\n      <td>gle</td>\n    </tr>\n    <tr>\n      <th>22</th>\n      <td>glg</td>\n    </tr>\n    <tr>\n      <th>23</th>\n      <td>lat</td>\n    </tr>\n    <tr>\n      <th>24</th>\n      <td>frs</td>\n    </tr>\n    <tr>\n      <th>25</th>\n      <td>wak</td>\n    </tr>\n    <tr>\n      <th>26</th>\n      <td>gla</td>\n    </tr>\n    <tr>\n      <th>27</th>\n      <td>rum</td>\n    </tr>\n    <tr>\n      <th>28</th>\n      <td>heb</td>\n    </tr>\n    <tr>\n      <th>29</th>\n      <td>enm</td>\n    </tr>\n    <tr>\n      <th>30</th>\n      <td>hun</td>\n    </tr>\n    <tr>\n      <th>31</th>\n      <td>fin</td>\n    </tr>\n    <tr>\n      <th>32</th>\n      <td>kor</td>\n    </tr>\n    <tr>\n      <th>33</th>\n      <td>guj</td>\n    </tr>\n    <tr>\n      <th>34</th>\n      <td>chp</td>\n    </tr>\n    <tr>\n      <th>35</th>\n      <td>raj</td>\n    </tr>\n    <tr>\n      <th>36</th>\n      <td>msa</td>\n    </tr>\n    <tr>\n      <th>37</th>\n      <td>hin</td>\n    </tr>\n    <tr>\n      <th>38</th>\n      <td>ind</td>\n    </tr>\n    <tr>\n      <th>39</th>\n      <td>pol</td>\n    </tr>\n    <tr>\n      <th>40</th>\n      <td>wel</td>\n    </tr>\n    <tr>\n      <th>41</th>\n      <td>nav</td>\n    </tr>\n    <tr>\n      <th>42</th>\n      <td>nor</td>\n    </tr>\n    <tr>\n      <th>43</th>\n      <td>myn</td>\n    </tr>\n    <tr>\n      <th>44</th>\n      <td>gre</td>\n    </tr>\n    <tr>\n      <th>45</th>\n      <td>elx</td>\n    </tr>\n    <tr>\n      <th>46</th>\n      <td>afr</td>\n    </tr>\n    <tr>\n      <th>47</th>\n      <td>cat</td>\n    </tr>\n    <tr>\n      <th>48</th>\n      <td>srp</td>\n    </tr>\n    <tr>\n      <th>49</th>\n      <td>fan</td>\n    </tr>\n    <tr>\n      <th>50</th>\n      <td>est</td>\n    </tr>\n    <tr>\n      <th>51</th>\n      <td>hye</td>\n    </tr>\n    <tr>\n      <th>52</th>\n      <td>tlh</td>\n    </tr>\n    <tr>\n      <th>53</th>\n      <td>ang</td>\n    </tr>\n    <tr>\n      <th>54</th>\n      <td>nub</td>\n    </tr>\n    <tr>\n      <th>55</th>\n      <td>dan</td>\n    </tr>\n    <tr>\n      <th>56</th>\n      <td>tam</td>\n    </tr>\n    <tr>\n      <th>57</th>\n      <td>scr</td>\n    </tr>\n    <tr>\n      <th>58</th>\n      <td>ypk</td>\n    </tr>\n    <tr>\n      <th>59</th>\n      <td>lao</td>\n    </tr>\n  </tbody>\n</table>\n</div>"
     },
     "execution_count": 98,
     "metadata": {},
     "output_type": "execute_result"
    }
   ],
   "source": [
    "book_lang = pd.DataFrame(data=book.Language.unique(), columns=['lang_title'])\n",
    "book_lang = book_lang[:60]\n",
    "book_lang.to_csv(\"output/book_lang.csv\", index=False)\n",
    "book_lang"
   ],
   "metadata": {
    "collapsed": false,
    "ExecuteTime": {
     "end_time": "2023-06-03T10:37:45.485846Z",
     "start_time": "2023-06-03T10:37:45.473779Z"
    }
   }
  },
  {
   "cell_type": "code",
   "execution_count": 99,
   "outputs": [
    {
     "data": {
      "text/plain": "       book_book_id book_lang_lang_id\n0            220650                21\n1            384357                42\n2            328671                33\n3             86237                38\n4             17079                 2\n...             ...               ...\n529995       248463                 1\n529996       491115                 8\n529997       339564                 6\n529998       347334                18\n529999       280474                46\n\n[530000 rows x 2 columns]",
      "text/html": "<div>\n<style scoped>\n    .dataframe tbody tr th:only-of-type {\n        vertical-align: middle;\n    }\n\n    .dataframe tbody tr th {\n        vertical-align: top;\n    }\n\n    .dataframe thead tr th {\n        text-align: left;\n    }\n</style>\n<table border=\"1\" class=\"dataframe\">\n  <thead>\n    <tr>\n      <th></th>\n      <th>book_book_id</th>\n      <th>book_lang_lang_id</th>\n    </tr>\n  </thead>\n  <tbody>\n    <tr>\n      <th>0</th>\n      <td>220650</td>\n      <td>21</td>\n    </tr>\n    <tr>\n      <th>1</th>\n      <td>384357</td>\n      <td>42</td>\n    </tr>\n    <tr>\n      <th>2</th>\n      <td>328671</td>\n      <td>33</td>\n    </tr>\n    <tr>\n      <th>3</th>\n      <td>86237</td>\n      <td>38</td>\n    </tr>\n    <tr>\n      <th>4</th>\n      <td>17079</td>\n      <td>2</td>\n    </tr>\n    <tr>\n      <th>...</th>\n      <td>...</td>\n      <td>...</td>\n    </tr>\n    <tr>\n      <th>529995</th>\n      <td>248463</td>\n      <td>1</td>\n    </tr>\n    <tr>\n      <th>529996</th>\n      <td>491115</td>\n      <td>8</td>\n    </tr>\n    <tr>\n      <th>529997</th>\n      <td>339564</td>\n      <td>6</td>\n    </tr>\n    <tr>\n      <th>529998</th>\n      <td>347334</td>\n      <td>18</td>\n    </tr>\n    <tr>\n      <th>529999</th>\n      <td>280474</td>\n      <td>46</td>\n    </tr>\n  </tbody>\n</table>\n<p>530000 rows × 2 columns</p>\n</div>"
     },
     "execution_count": 99,
     "metadata": {},
     "output_type": "execute_result"
    }
   ],
   "source": [
    "book_book_lang = pd.DataFrame(columns=[['book_book_id', 'book_lang_lang_id']])\n",
    "book_book_id = [random.randint(1, 530000) for i in range(530000)]\n",
    "book_lang_lang_id = [random.randint(1, 60) for i in range(530000)]\n",
    "book_book_lang['book_book_id'] = book_book_id\n",
    "book_book_lang['book_lang_lang_id'] = book_lang_lang_id\n",
    "book_book_lang.to_csv(\"output/book_book_lang.csv\", index=False)\n",
    "book_book_lang"
   ],
   "metadata": {
    "collapsed": false,
    "ExecuteTime": {
     "end_time": "2023-06-03T10:37:46.670541Z",
     "start_time": "2023-06-03T10:37:45.528898Z"
    }
   }
  },
  {
   "cell_type": "code",
   "execution_count": 100,
   "outputs": [
    {
     "data": {
      "text/plain": "                                    publisher_name  \\\n0                    University of Wisconsin Press   \n1                                      Authorhouse   \n2                                     Oxmoor House   \n3                                Time Life Medical   \n4                                     Pocket Books   \n...                                            ...   \n24995                     Archaeopress Archaeology   \n24996              University of Arizona Libraries   \n24997                      Printland Publishers US   \n24998                 New Holland Publishers, Ltd.   \n24999  Martin E. Segal Theatre Center Publications   \n\n                                          publisher_desc  \n0                  Desc of University of Wisconsin Press  \n1                                    Desc of Authorhouse  \n2                                   Desc of Oxmoor House  \n3                              Desc of Time Life Medical  \n4                                   Desc of Pocket Books  \n...                                                  ...  \n24995                   Desc of Archaeopress Archaeology  \n24996            Desc of University of Arizona Libraries  \n24997                    Desc of Printland Publishers US  \n24998               Desc of New Holland Publishers, Ltd.  \n24999  Desc of Martin E. Segal Theatre Center Publica...  \n\n[25000 rows x 2 columns]",
      "text/html": "<div>\n<style scoped>\n    .dataframe tbody tr th:only-of-type {\n        vertical-align: middle;\n    }\n\n    .dataframe tbody tr th {\n        vertical-align: top;\n    }\n\n    .dataframe thead th {\n        text-align: right;\n    }\n</style>\n<table border=\"1\" class=\"dataframe\">\n  <thead>\n    <tr style=\"text-align: right;\">\n      <th></th>\n      <th>publisher_name</th>\n      <th>publisher_desc</th>\n    </tr>\n  </thead>\n  <tbody>\n    <tr>\n      <th>0</th>\n      <td>University of Wisconsin Press</td>\n      <td>Desc of University of Wisconsin Press</td>\n    </tr>\n    <tr>\n      <th>1</th>\n      <td>Authorhouse</td>\n      <td>Desc of Authorhouse</td>\n    </tr>\n    <tr>\n      <th>2</th>\n      <td>Oxmoor House</td>\n      <td>Desc of Oxmoor House</td>\n    </tr>\n    <tr>\n      <th>3</th>\n      <td>Time Life Medical</td>\n      <td>Desc of Time Life Medical</td>\n    </tr>\n    <tr>\n      <th>4</th>\n      <td>Pocket Books</td>\n      <td>Desc of Pocket Books</td>\n    </tr>\n    <tr>\n      <th>...</th>\n      <td>...</td>\n      <td>...</td>\n    </tr>\n    <tr>\n      <th>24995</th>\n      <td>Archaeopress Archaeology</td>\n      <td>Desc of Archaeopress Archaeology</td>\n    </tr>\n    <tr>\n      <th>24996</th>\n      <td>University of Arizona Libraries</td>\n      <td>Desc of University of Arizona Libraries</td>\n    </tr>\n    <tr>\n      <th>24997</th>\n      <td>Printland Publishers US</td>\n      <td>Desc of Printland Publishers US</td>\n    </tr>\n    <tr>\n      <th>24998</th>\n      <td>New Holland Publishers, Ltd.</td>\n      <td>Desc of New Holland Publishers, Ltd.</td>\n    </tr>\n    <tr>\n      <th>24999</th>\n      <td>Martin E. Segal Theatre Center Publications</td>\n      <td>Desc of Martin E. Segal Theatre Center Publica...</td>\n    </tr>\n  </tbody>\n</table>\n<p>25000 rows × 2 columns</p>\n</div>"
     },
     "execution_count": 100,
     "metadata": {},
     "output_type": "execute_result"
    }
   ],
   "source": [
    "book_publisher = pd.DataFrame(data=book.Publisher.unique(), columns=['publisher_name'])\n",
    "publisher_desc = [f\"Desc of {book_publisher.iloc[i, 0]}\" for i in range(book_publisher.count()[0])]\n",
    "book_publisher['publisher_desc'] = publisher_desc\n",
    "book_publisher = book_publisher[:25000]\n",
    "book_publisher.to_csv(\"output/book_publisher.csv\", index=False)\n",
    "book_publisher"
   ],
   "metadata": {
    "collapsed": false,
    "ExecuteTime": {
     "end_time": "2023-06-03T10:37:47.010062Z",
     "start_time": "2023-06-03T10:37:46.696660Z"
    }
   }
  },
  {
   "cell_type": "code",
   "execution_count": 102,
   "outputs": [
    {
     "data": {
      "text/plain": "                                           address_title address_postcode  \\\n0      Upper Street, Stratford St Mary, COLCHESTER, E...          CO7 6LW   \n1           Egremont Street, Glemsford, SUDBURY, Suffolk         CO10 7SA   \n2                        7 Market Hill, SUDBURY, Suffolk         CO10 2EA   \n3      Lower Street, Stratford St Mary, COLCHESTER, E...          CO7 6JS   \n4                 Lion Road, Glemsford, SUDBURY, Suffolk         CO10 7RF   \n...                                                  ...              ...   \n39995                                3 Whitegate, Siddal          HX3 9AE   \n39996                           Balkram Edge, Wainstalls          HX2 7TB   \n39997                         Cold Edge Road, Wainstalls          HX2 7UA   \n39998                       263 King Cross Road, Halifax          HX1 3JL   \n39999  7 Central Buildings, Town Hall Street, Sowerby...          HX6 2QD   \n\n      address_latitude address_longitude  \n0             51.97039          0.979328  \n1            52.094427          0.668408  \n2            52.038683          0.730226  \n3            51.966211          0.972091  \n4            52.102815          0.666893  \n...                ...               ...  \n39995        53.712248         -1.852802  \n39996        53.747669         -1.930529  \n39997        53.768341         -1.930146  \n39998         53.71495         -1.881566  \n39999        53.708352         -1.912217  \n\n[40000 rows x 4 columns]",
      "text/html": "<div>\n<style scoped>\n    .dataframe tbody tr th:only-of-type {\n        vertical-align: middle;\n    }\n\n    .dataframe tbody tr th {\n        vertical-align: top;\n    }\n\n    .dataframe thead th {\n        text-align: right;\n    }\n</style>\n<table border=\"1\" class=\"dataframe\">\n  <thead>\n    <tr style=\"text-align: right;\">\n      <th></th>\n      <th>address_title</th>\n      <th>address_postcode</th>\n      <th>address_latitude</th>\n      <th>address_longitude</th>\n    </tr>\n  </thead>\n  <tbody>\n    <tr>\n      <th>0</th>\n      <td>Upper Street, Stratford St Mary, COLCHESTER, E...</td>\n      <td>CO7 6LW</td>\n      <td>51.97039</td>\n      <td>0.979328</td>\n    </tr>\n    <tr>\n      <th>1</th>\n      <td>Egremont Street, Glemsford, SUDBURY, Suffolk</td>\n      <td>CO10 7SA</td>\n      <td>52.094427</td>\n      <td>0.668408</td>\n    </tr>\n    <tr>\n      <th>2</th>\n      <td>7 Market Hill, SUDBURY, Suffolk</td>\n      <td>CO10 2EA</td>\n      <td>52.038683</td>\n      <td>0.730226</td>\n    </tr>\n    <tr>\n      <th>3</th>\n      <td>Lower Street, Stratford St Mary, COLCHESTER, E...</td>\n      <td>CO7 6JS</td>\n      <td>51.966211</td>\n      <td>0.972091</td>\n    </tr>\n    <tr>\n      <th>4</th>\n      <td>Lion Road, Glemsford, SUDBURY, Suffolk</td>\n      <td>CO10 7RF</td>\n      <td>52.102815</td>\n      <td>0.666893</td>\n    </tr>\n    <tr>\n      <th>...</th>\n      <td>...</td>\n      <td>...</td>\n      <td>...</td>\n      <td>...</td>\n    </tr>\n    <tr>\n      <th>39995</th>\n      <td>3 Whitegate, Siddal</td>\n      <td>HX3 9AE</td>\n      <td>53.712248</td>\n      <td>-1.852802</td>\n    </tr>\n    <tr>\n      <th>39996</th>\n      <td>Balkram Edge, Wainstalls</td>\n      <td>HX2 7TB</td>\n      <td>53.747669</td>\n      <td>-1.930529</td>\n    </tr>\n    <tr>\n      <th>39997</th>\n      <td>Cold Edge Road, Wainstalls</td>\n      <td>HX2 7UA</td>\n      <td>53.768341</td>\n      <td>-1.930146</td>\n    </tr>\n    <tr>\n      <th>39998</th>\n      <td>263 King Cross Road, Halifax</td>\n      <td>HX1 3JL</td>\n      <td>53.71495</td>\n      <td>-1.881566</td>\n    </tr>\n    <tr>\n      <th>39999</th>\n      <td>7 Central Buildings, Town Hall Street, Sowerby...</td>\n      <td>HX6 2QD</td>\n      <td>53.708352</td>\n      <td>-1.912217</td>\n    </tr>\n  </tbody>\n</table>\n<p>40000 rows × 4 columns</p>\n</div>"
     },
     "execution_count": 102,
     "metadata": {},
     "output_type": "execute_result"
    }
   ],
   "source": [
    "address = pd.read_csv(\"input/address/open_pubs.csv\").drop([\"fas_id\", \"name\", \"local_authority\", \"easting\", \"northing\"],\n",
    "                                                          axis=1)\n",
    "address.columns = ['address_title', 'address_postcode', 'address_latitude', 'address_longitude']\n",
    "address = address[:40000]\n",
    "address.to_csv(\"output/address.csv\", index=False)\n",
    "address"
   ],
   "metadata": {
    "collapsed": false,
    "ExecuteTime": {
     "end_time": "2023-06-03T10:43:07.859477Z",
     "start_time": "2023-06-03T10:43:07.635695Z"
    }
   }
  }
 ],
 "metadata": {
  "kernelspec": {
   "display_name": "Python 3",
   "language": "python",
   "name": "python3"
  },
  "language_info": {
   "codemirror_mode": {
    "name": "ipython",
    "version": 2
   },
   "file_extension": ".py",
   "mimetype": "text/x-python",
   "name": "python",
   "nbconvert_exporter": "python",
   "pygments_lexer": "ipython2",
   "version": "2.7.6"
  }
 },
 "nbformat": 4,
 "nbformat_minor": 0
}
