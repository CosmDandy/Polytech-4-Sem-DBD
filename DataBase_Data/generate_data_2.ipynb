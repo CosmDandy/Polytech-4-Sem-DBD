{
 "cells": [
  {
   "cell_type": "code",
   "execution_count": 1,
   "metadata": {
    "collapsed": true,
    "ExecuteTime": {
     "end_time": "2023-06-04T09:43:30.256218Z",
     "start_time": "2023-06-04T09:43:29.938355Z"
    }
   },
   "outputs": [],
   "source": [
    "import pandas as pd\n",
    "import random\n",
    "from pathlib import Path\n",
    "import numpy as np\n",
    "import psycopg2\n",
    "from datetime import date, timedelta"
   ]
  },
  {
   "cell_type": "markdown",
   "source": [
    "# Данные"
   ],
   "metadata": {
    "collapsed": false
   }
  },
  {
   "cell_type": "markdown",
   "source": [
    "## Подготовка данных для таблицы book"
   ],
   "metadata": {
    "collapsed": false
   }
  },
  {
   "cell_type": "code",
   "execution_count": 2,
   "outputs": [],
   "source": [
    "books_num = 10000\n",
    "book_author_num = 7000\n",
    "book_lang_num = 15\n",
    "book_publisher_num = 3000"
   ],
   "metadata": {
    "collapsed": false,
    "ExecuteTime": {
     "end_time": "2023-06-04T09:43:30.259924Z",
     "start_time": "2023-06-04T09:43:30.257215Z"
    }
   }
  },
  {
   "cell_type": "code",
   "execution_count": 3,
   "outputs": [
    {
     "data": {
      "text/plain": "                                             book_title  book_rating  \\\n0     A Passion to Preserve: Gay Men as Keepers of C...         3.75   \n1     Culture Keepers-Florida: Oral History of the A...         0.00   \n2     Holiday Favorites: The Best of the Williams-So...         4.55   \n3     Soups, Salads & Starters: the Best of Williams...         4.70   \n4                                 Breakfasts & Brunches         3.88   \n...                                                 ...          ...   \n9995                                    Starting Riding         4.00   \n9996   The Perilous Frontier: Nomadic Empires and China         4.33   \n9997            Postmodernism: The Twilight of the Real         3.67   \n9998  Perilous Passage (pb): A Narrative of the Mont...         4.00   \n9999  Echoes: Contemporary Art at the Age of Endless...         0.00   \n\n      book_publish_year  book_publish_month  book_publish_day  book_publisher  \\\n0                  2005                   1                 9            7970   \n1                  2006                   9                 7             395   \n2                  2004                   1                 4            7132   \n3                  2004                   1                 4            5004   \n4                  1997                   1                 4           13526   \n...                 ...                 ...               ...             ...   \n9995               1992                   9                 4           13297   \n9996               1992                   9                 7            2381   \n9997               1990                   9                 5            7899   \n9998               1995                   1                 1           18990   \n9999               1996                   1                11           13924   \n\n      book_num_reviews  book_page_num  \\\n0                    6            298   \n1                    0            140   \n2                    2            336   \n3                    2            336   \n4                    0            108   \n...                ...            ...   \n9995                 0             32   \n9996                 9            325   \n9997                 0            160   \n9998                 0            214   \n9999                 0            256   \n\n                                              book_desc  \n0     From large cities to rural communities, gay me...  \n1                                        No description  \n2     This collector's edition features fabulous ful...  \n3                                        No description  \n4     America's most respected cookware retailer, th...  \n...                                                 ...  \n9995  A guide for new riders, covering everything fr...  \n9996  Around 800 BC, the Eurasian steppe underwent a...  \n9997                                                 No  \n9998  In 1862 Edwin Ruthven Purple seized the chance...  \n9999                                     No description  \n\n[10000 rows x 9 columns]",
      "text/html": "<div>\n<style scoped>\n    .dataframe tbody tr th:only-of-type {\n        vertical-align: middle;\n    }\n\n    .dataframe tbody tr th {\n        vertical-align: top;\n    }\n\n    .dataframe thead th {\n        text-align: right;\n    }\n</style>\n<table border=\"1\" class=\"dataframe\">\n  <thead>\n    <tr style=\"text-align: right;\">\n      <th></th>\n      <th>book_title</th>\n      <th>book_rating</th>\n      <th>book_publish_year</th>\n      <th>book_publish_month</th>\n      <th>book_publish_day</th>\n      <th>book_publisher</th>\n      <th>book_num_reviews</th>\n      <th>book_page_num</th>\n      <th>book_desc</th>\n    </tr>\n  </thead>\n  <tbody>\n    <tr>\n      <th>0</th>\n      <td>A Passion to Preserve: Gay Men as Keepers of C...</td>\n      <td>3.75</td>\n      <td>2005</td>\n      <td>1</td>\n      <td>9</td>\n      <td>7970</td>\n      <td>6</td>\n      <td>298</td>\n      <td>From large cities to rural communities, gay me...</td>\n    </tr>\n    <tr>\n      <th>1</th>\n      <td>Culture Keepers-Florida: Oral History of the A...</td>\n      <td>0.00</td>\n      <td>2006</td>\n      <td>9</td>\n      <td>7</td>\n      <td>395</td>\n      <td>0</td>\n      <td>140</td>\n      <td>No description</td>\n    </tr>\n    <tr>\n      <th>2</th>\n      <td>Holiday Favorites: The Best of the Williams-So...</td>\n      <td>4.55</td>\n      <td>2004</td>\n      <td>1</td>\n      <td>4</td>\n      <td>7132</td>\n      <td>2</td>\n      <td>336</td>\n      <td>This collector's edition features fabulous ful...</td>\n    </tr>\n    <tr>\n      <th>3</th>\n      <td>Soups, Salads &amp; Starters: the Best of Williams...</td>\n      <td>4.70</td>\n      <td>2004</td>\n      <td>1</td>\n      <td>4</td>\n      <td>5004</td>\n      <td>2</td>\n      <td>336</td>\n      <td>No description</td>\n    </tr>\n    <tr>\n      <th>4</th>\n      <td>Breakfasts &amp; Brunches</td>\n      <td>3.88</td>\n      <td>1997</td>\n      <td>1</td>\n      <td>4</td>\n      <td>13526</td>\n      <td>0</td>\n      <td>108</td>\n      <td>America's most respected cookware retailer, th...</td>\n    </tr>\n    <tr>\n      <th>...</th>\n      <td>...</td>\n      <td>...</td>\n      <td>...</td>\n      <td>...</td>\n      <td>...</td>\n      <td>...</td>\n      <td>...</td>\n      <td>...</td>\n      <td>...</td>\n    </tr>\n    <tr>\n      <th>9995</th>\n      <td>Starting Riding</td>\n      <td>4.00</td>\n      <td>1992</td>\n      <td>9</td>\n      <td>4</td>\n      <td>13297</td>\n      <td>0</td>\n      <td>32</td>\n      <td>A guide for new riders, covering everything fr...</td>\n    </tr>\n    <tr>\n      <th>9996</th>\n      <td>The Perilous Frontier: Nomadic Empires and China</td>\n      <td>4.33</td>\n      <td>1992</td>\n      <td>9</td>\n      <td>7</td>\n      <td>2381</td>\n      <td>9</td>\n      <td>325</td>\n      <td>Around 800 BC, the Eurasian steppe underwent a...</td>\n    </tr>\n    <tr>\n      <th>9997</th>\n      <td>Postmodernism: The Twilight of the Real</td>\n      <td>3.67</td>\n      <td>1990</td>\n      <td>9</td>\n      <td>5</td>\n      <td>7899</td>\n      <td>0</td>\n      <td>160</td>\n      <td>No</td>\n    </tr>\n    <tr>\n      <th>9998</th>\n      <td>Perilous Passage (pb): A Narrative of the Mont...</td>\n      <td>4.00</td>\n      <td>1995</td>\n      <td>1</td>\n      <td>1</td>\n      <td>18990</td>\n      <td>0</td>\n      <td>214</td>\n      <td>In 1862 Edwin Ruthven Purple seized the chance...</td>\n    </tr>\n    <tr>\n      <th>9999</th>\n      <td>Echoes: Contemporary Art at the Age of Endless...</td>\n      <td>0.00</td>\n      <td>1996</td>\n      <td>1</td>\n      <td>11</td>\n      <td>13924</td>\n      <td>0</td>\n      <td>256</td>\n      <td>No description</td>\n    </tr>\n  </tbody>\n</table>\n<p>10000 rows × 9 columns</p>\n</div>"
     },
     "execution_count": 3,
     "metadata": {},
     "output_type": "execute_result"
    }
   ],
   "source": [
    "directory = Path(\"input/book\")\n",
    "book = pd.concat([pd.read_csv(f).drop(\n",
    "    ['RatingDist1', 'RatingDist4', 'RatingDistTotal', 'RatingDist2', 'RatingDist5', 'RatingDist3', 'Id'], axis=1) for f\n",
    "    in directory.glob(\"*.csv\")], ignore_index=True)\n",
    "\n",
    "# book = book.drop(['pagesNumber', 'Count of text reviews'], axis=1)\n",
    "book.Language = book.Language.fillna('eng')\n",
    "book.pagesNumber = book.pagesNumber.fillna(random.randint(250, 1500))\n",
    "book.pagesNumber = book.pagesNumber.astype('int')\n",
    "book.Publisher = book.Publisher.fillna('Alpina')\n",
    "book.Description = book.Description.fillna('No description')\n",
    "book['Genre'] = np.random.choice(\n",
    "    ['Action and Adventure', 'Classics', 'Comic Book', 'Detective', 'Mystery', 'Fantasy', 'Historical Fiction',\n",
    "     'Literary Fiction', 'Horror', 'Romance', 'Science Fiction', 'Short Stories', 'Suspense', 'Thrillers',\n",
    "     'Biographies', 'Autobiographies', 'Cookbooks', 'Essays', 'History', 'Memoir', 'Poetry', 'Self-Help', 'True Crime'],\n",
    "    len(book))\n",
    "book.ISBN = book.ISBN.fillna(random.randint(1000, 10000000))\n",
    "book = book.drop([\"ISBN\"], axis=1)\n",
    "book = book.drop([\"Count of text reviews\"], axis=1)\n",
    "\n",
    "book.loc[book['PublishYear'] > 2023, 'PublishYear'] = random.randint(1900, 2023)\n",
    "book.loc[book['PublishMonth'] > 12, 'PublishMonth'] = random.randint(1, 12)\n",
    "book.loc[book['PublishDay'] > 31, 'PublishDay'] = random.randint(1, 31)\n",
    "book.loc[(book['Language'] == \"en-US\") | (book['Language'] == \"en-GB\") | (book['Language'] == \"en-CA\") | (\n",
    "        book['Language'] == \"--\"), 'Language'] = \"eng\"\n",
    "\n",
    "book = book[:books_num]\n",
    "book_copy = book.copy()\n",
    "book_copy = book_copy.drop(columns=['Authors', 'Language', 'Genre'])\n",
    "book_copy['Publisher'] = [random.randint(1, 25000) for i in range(books_num)]\n",
    "book_copy.columns = ['book_title',\n",
    "                     'book_rating',\n",
    "                     'book_publish_year',\n",
    "                     'book_publish_month',\n",
    "                     'book_publish_day',\n",
    "                     'book_publisher',\n",
    "                     'book_num_reviews',\n",
    "                     'book_page_num',\n",
    "                     'book_desc']\n",
    "\n",
    "book_copy.to_csv(\"output/book.csv\", index=False)\n",
    "book_copy"
   ],
   "metadata": {
    "collapsed": false,
    "ExecuteTime": {
     "end_time": "2023-06-04T09:43:33.707070Z",
     "start_time": "2023-06-04T09:43:30.264061Z"
    }
   }
  },
  {
   "cell_type": "code",
   "execution_count": 4,
   "outputs": [
    {
     "data": {
      "text/plain": "                                                   Name  \\\n0     A Passion to Preserve: Gay Men as Keepers of C...   \n1     Culture Keepers-Florida: Oral History of the A...   \n2     Holiday Favorites: The Best of the Williams-So...   \n3     Soups, Salads & Starters: the Best of Williams...   \n4                                 Breakfasts & Brunches   \n...                                                 ...   \n9995                                    Starting Riding   \n9996   The Perilous Frontier: Nomadic Empires and China   \n9997            Postmodernism: The Twilight of the Real   \n9998  Perilous Passage (pb): A Narrative of the Mont...   \n9999  Echoes: Contemporary Art at the Age of Endless...   \n\n                    Authors  Rating  PublishYear  PublishMonth  PublishDay  \\\n0              Will Fellows    3.75         2005             1           9   \n1     Deborah Johnson-Simon    0.00         2006             9           7   \n2           Allen Rosenberg    4.55         2004             1           4   \n3           Allan Rosenberg    4.70         2004             1           4   \n4           Time-Life Books    3.88         1997             1           4   \n...                     ...     ...          ...           ...         ...   \n9995             Helen Edom    4.00         1992             9           4   \n9996     Thomas J. Barfield    4.33         1992             9           7   \n9997      Neville Wakefield    3.67         1990             9           5   \n9998           Edwin Purple    4.00         1995             1           1   \n9999             Jen Budney    0.00         1996             1          11   \n\n                                Publisher  CountsOfReview Language  \\\n0           University of Wisconsin Press               6      eng   \n1                             Authorhouse               0      eng   \n2                            Oxmoor House               2      eng   \n3                            Oxmoor House               2      eng   \n4                       Time Life Medical               0      eng   \n...                                   ...             ...      ...   \n9995  Educational Development Corporation               0      eng   \n9996                      Wiley-Blackwell               9      eng   \n9997                          Pluto Press               0      eng   \n9998     Montana Historical Society Press               0      eng   \n9999                  The Monacelli Press               0      eng   \n\n      pagesNumber                                        Description  \\\n0             298  From large cities to rural communities, gay me...   \n1             140                                     No description   \n2             336  This collector's edition features fabulous ful...   \n3             336                                     No description   \n4             108  America's most respected cookware retailer, th...   \n...           ...                                                ...   \n9995           32  A guide for new riders, covering everything fr...   \n9996          325  Around 800 BC, the Eurasian steppe underwent a...   \n9997          160                                                 No   \n9998          214  In 1862 Edwin Ruthven Purple seized the chance...   \n9999          256                                     No description   \n\n                     Genre  \n0                   Horror  \n1                   Poetry  \n2                   Poetry  \n3                Self-Help  \n4                  Fantasy  \n...                    ...  \n9995  Action and Adventure  \n9996             Detective  \n9997         Short Stories  \n9998               Fantasy  \n9999             Thrillers  \n\n[10000 rows x 12 columns]",
      "text/html": "<div>\n<style scoped>\n    .dataframe tbody tr th:only-of-type {\n        vertical-align: middle;\n    }\n\n    .dataframe tbody tr th {\n        vertical-align: top;\n    }\n\n    .dataframe thead th {\n        text-align: right;\n    }\n</style>\n<table border=\"1\" class=\"dataframe\">\n  <thead>\n    <tr style=\"text-align: right;\">\n      <th></th>\n      <th>Name</th>\n      <th>Authors</th>\n      <th>Rating</th>\n      <th>PublishYear</th>\n      <th>PublishMonth</th>\n      <th>PublishDay</th>\n      <th>Publisher</th>\n      <th>CountsOfReview</th>\n      <th>Language</th>\n      <th>pagesNumber</th>\n      <th>Description</th>\n      <th>Genre</th>\n    </tr>\n  </thead>\n  <tbody>\n    <tr>\n      <th>0</th>\n      <td>A Passion to Preserve: Gay Men as Keepers of C...</td>\n      <td>Will Fellows</td>\n      <td>3.75</td>\n      <td>2005</td>\n      <td>1</td>\n      <td>9</td>\n      <td>University of Wisconsin Press</td>\n      <td>6</td>\n      <td>eng</td>\n      <td>298</td>\n      <td>From large cities to rural communities, gay me...</td>\n      <td>Horror</td>\n    </tr>\n    <tr>\n      <th>1</th>\n      <td>Culture Keepers-Florida: Oral History of the A...</td>\n      <td>Deborah Johnson-Simon</td>\n      <td>0.00</td>\n      <td>2006</td>\n      <td>9</td>\n      <td>7</td>\n      <td>Authorhouse</td>\n      <td>0</td>\n      <td>eng</td>\n      <td>140</td>\n      <td>No description</td>\n      <td>Poetry</td>\n    </tr>\n    <tr>\n      <th>2</th>\n      <td>Holiday Favorites: The Best of the Williams-So...</td>\n      <td>Allen Rosenberg</td>\n      <td>4.55</td>\n      <td>2004</td>\n      <td>1</td>\n      <td>4</td>\n      <td>Oxmoor House</td>\n      <td>2</td>\n      <td>eng</td>\n      <td>336</td>\n      <td>This collector's edition features fabulous ful...</td>\n      <td>Poetry</td>\n    </tr>\n    <tr>\n      <th>3</th>\n      <td>Soups, Salads &amp; Starters: the Best of Williams...</td>\n      <td>Allan Rosenberg</td>\n      <td>4.70</td>\n      <td>2004</td>\n      <td>1</td>\n      <td>4</td>\n      <td>Oxmoor House</td>\n      <td>2</td>\n      <td>eng</td>\n      <td>336</td>\n      <td>No description</td>\n      <td>Self-Help</td>\n    </tr>\n    <tr>\n      <th>4</th>\n      <td>Breakfasts &amp; Brunches</td>\n      <td>Time-Life Books</td>\n      <td>3.88</td>\n      <td>1997</td>\n      <td>1</td>\n      <td>4</td>\n      <td>Time Life Medical</td>\n      <td>0</td>\n      <td>eng</td>\n      <td>108</td>\n      <td>America's most respected cookware retailer, th...</td>\n      <td>Fantasy</td>\n    </tr>\n    <tr>\n      <th>...</th>\n      <td>...</td>\n      <td>...</td>\n      <td>...</td>\n      <td>...</td>\n      <td>...</td>\n      <td>...</td>\n      <td>...</td>\n      <td>...</td>\n      <td>...</td>\n      <td>...</td>\n      <td>...</td>\n      <td>...</td>\n    </tr>\n    <tr>\n      <th>9995</th>\n      <td>Starting Riding</td>\n      <td>Helen Edom</td>\n      <td>4.00</td>\n      <td>1992</td>\n      <td>9</td>\n      <td>4</td>\n      <td>Educational Development Corporation</td>\n      <td>0</td>\n      <td>eng</td>\n      <td>32</td>\n      <td>A guide for new riders, covering everything fr...</td>\n      <td>Action and Adventure</td>\n    </tr>\n    <tr>\n      <th>9996</th>\n      <td>The Perilous Frontier: Nomadic Empires and China</td>\n      <td>Thomas J. Barfield</td>\n      <td>4.33</td>\n      <td>1992</td>\n      <td>9</td>\n      <td>7</td>\n      <td>Wiley-Blackwell</td>\n      <td>9</td>\n      <td>eng</td>\n      <td>325</td>\n      <td>Around 800 BC, the Eurasian steppe underwent a...</td>\n      <td>Detective</td>\n    </tr>\n    <tr>\n      <th>9997</th>\n      <td>Postmodernism: The Twilight of the Real</td>\n      <td>Neville Wakefield</td>\n      <td>3.67</td>\n      <td>1990</td>\n      <td>9</td>\n      <td>5</td>\n      <td>Pluto Press</td>\n      <td>0</td>\n      <td>eng</td>\n      <td>160</td>\n      <td>No</td>\n      <td>Short Stories</td>\n    </tr>\n    <tr>\n      <th>9998</th>\n      <td>Perilous Passage (pb): A Narrative of the Mont...</td>\n      <td>Edwin Purple</td>\n      <td>4.00</td>\n      <td>1995</td>\n      <td>1</td>\n      <td>1</td>\n      <td>Montana Historical Society Press</td>\n      <td>0</td>\n      <td>eng</td>\n      <td>214</td>\n      <td>In 1862 Edwin Ruthven Purple seized the chance...</td>\n      <td>Fantasy</td>\n    </tr>\n    <tr>\n      <th>9999</th>\n      <td>Echoes: Contemporary Art at the Age of Endless...</td>\n      <td>Jen Budney</td>\n      <td>0.00</td>\n      <td>1996</td>\n      <td>1</td>\n      <td>11</td>\n      <td>The Monacelli Press</td>\n      <td>0</td>\n      <td>eng</td>\n      <td>256</td>\n      <td>No description</td>\n      <td>Thrillers</td>\n    </tr>\n  </tbody>\n</table>\n<p>10000 rows × 12 columns</p>\n</div>"
     },
     "execution_count": 4,
     "metadata": {},
     "output_type": "execute_result"
    }
   ],
   "source": [
    "book"
   ],
   "metadata": {
    "collapsed": false,
    "ExecuteTime": {
     "end_time": "2023-06-04T09:43:33.712308Z",
     "start_time": "2023-06-04T09:43:33.710236Z"
    }
   }
  },
  {
   "cell_type": "markdown",
   "source": [
    "## Данные для таблиц\n",
    "- book\n",
    "- book_genre\n",
    "- book_lang\n",
    "- book_publisher\n",
    "- book_author\n",
    "- people"
   ],
   "metadata": {
    "collapsed": false
   }
  },
  {
   "cell_type": "code",
   "execution_count": 5,
   "outputs": [
    {
     "data": {
      "text/plain": "    people_name people_surname people_patronymic  people_sex  people_address  \\\n0      Смирнова       Василиса         Ильинична       False           17085   \n1        Агеева          Софья        Богдановна       False           13761   \n2         Шаров        Серафим         Матвеевич        True           23831   \n3       Кузьмин         Сергей     Александрович        True            4185   \n4      Дмитриев        Дмитрий         Матвеевич        True           18342   \n..          ...            ...               ...         ...             ...   \n595    Родионов         Михаил        Кириллович        True           12850   \n596     Иванова         Таисия    Константиновна       False           38541   \n597    Захарова       Вероника         Никитична       False           38082   \n598   Алексеева          Софья     Александровна       False            9432   \n599     Аникина       Серафима        Тимофеевна       False           28704   \n\n     people_tel_num  people_pass_num       people_email  \\\n0       89283672851        221174457  ayHKyWw@gmail.com   \n1       89572177451        671491856  yQyIadw@gmail.com   \n2       89577178345        145915573  jyVQLnA@gmail.com   \n3       89025582245        229938897  kAsXLXU@gmail.com   \n4       89695282505        173322769  mKkVcXX@gmail.com   \n..              ...              ...                ...   \n595     89270717235        838082164  RgBhuyo@gmail.com   \n596     89380030963        651566879  jAbTDxi@gmail.com   \n597     89124451789        290729844  heKUMkZ@gmail.com   \n598     89173019662        478551527  MpzFpnV@gmail.com   \n599     89972168223        894097091  FDpCPvK@gmail.com   \n\n                                       people_password  people_role  \n0    sha256$MqcBjLztOvPXEQlc$77ed258f3dbff6c73172c2...            1  \n1    sha256$HF6takUpWYXoXrsO$608cfb5a675aee9ec0c634...            1  \n2    sha256$19w99EAYQ1cayvl2$ca0ceab4baf7c7eeb32d01...            1  \n3    sha256$o94TXMvvEP2Ar7sV$28784c6cff28dcf09de611...            1  \n4    sha256$N0AQUIOlWW4E2ii3$f55de07d78126a906d8be5...            1  \n..                                                 ...          ...  \n595  sha256$GP4LAlcWvoXZG4cr$2bfda1ac6883ae20de237c...            1  \n596  sha256$hzvVGne97YHiYMG1$f45c5d60ecacd271a25c72...            1  \n597  sha256$JtHP2UBVZ3ZJfIYI$7db7126adf9871d3c98a74...            1  \n598  sha256$jj3aiDpZUR2xdfmv$04cca8dc3a3d8e3fd13d90...            1  \n599  sha256$kTtdhLScpWzzcXbf$8ebfd2c18f86caebc31a38...            1  \n\n[600 rows x 10 columns]",
      "text/html": "<div>\n<style scoped>\n    .dataframe tbody tr th:only-of-type {\n        vertical-align: middle;\n    }\n\n    .dataframe tbody tr th {\n        vertical-align: top;\n    }\n\n    .dataframe thead th {\n        text-align: right;\n    }\n</style>\n<table border=\"1\" class=\"dataframe\">\n  <thead>\n    <tr style=\"text-align: right;\">\n      <th></th>\n      <th>people_name</th>\n      <th>people_surname</th>\n      <th>people_patronymic</th>\n      <th>people_sex</th>\n      <th>people_address</th>\n      <th>people_tel_num</th>\n      <th>people_pass_num</th>\n      <th>people_email</th>\n      <th>people_password</th>\n      <th>people_role</th>\n    </tr>\n  </thead>\n  <tbody>\n    <tr>\n      <th>0</th>\n      <td>Смирнова</td>\n      <td>Василиса</td>\n      <td>Ильинична</td>\n      <td>False</td>\n      <td>17085</td>\n      <td>89283672851</td>\n      <td>221174457</td>\n      <td>ayHKyWw@gmail.com</td>\n      <td>sha256$MqcBjLztOvPXEQlc$77ed258f3dbff6c73172c2...</td>\n      <td>1</td>\n    </tr>\n    <tr>\n      <th>1</th>\n      <td>Агеева</td>\n      <td>Софья</td>\n      <td>Богдановна</td>\n      <td>False</td>\n      <td>13761</td>\n      <td>89572177451</td>\n      <td>671491856</td>\n      <td>yQyIadw@gmail.com</td>\n      <td>sha256$HF6takUpWYXoXrsO$608cfb5a675aee9ec0c634...</td>\n      <td>1</td>\n    </tr>\n    <tr>\n      <th>2</th>\n      <td>Шаров</td>\n      <td>Серафим</td>\n      <td>Матвеевич</td>\n      <td>True</td>\n      <td>23831</td>\n      <td>89577178345</td>\n      <td>145915573</td>\n      <td>jyVQLnA@gmail.com</td>\n      <td>sha256$19w99EAYQ1cayvl2$ca0ceab4baf7c7eeb32d01...</td>\n      <td>1</td>\n    </tr>\n    <tr>\n      <th>3</th>\n      <td>Кузьмин</td>\n      <td>Сергей</td>\n      <td>Александрович</td>\n      <td>True</td>\n      <td>4185</td>\n      <td>89025582245</td>\n      <td>229938897</td>\n      <td>kAsXLXU@gmail.com</td>\n      <td>sha256$o94TXMvvEP2Ar7sV$28784c6cff28dcf09de611...</td>\n      <td>1</td>\n    </tr>\n    <tr>\n      <th>4</th>\n      <td>Дмитриев</td>\n      <td>Дмитрий</td>\n      <td>Матвеевич</td>\n      <td>True</td>\n      <td>18342</td>\n      <td>89695282505</td>\n      <td>173322769</td>\n      <td>mKkVcXX@gmail.com</td>\n      <td>sha256$N0AQUIOlWW4E2ii3$f55de07d78126a906d8be5...</td>\n      <td>1</td>\n    </tr>\n    <tr>\n      <th>...</th>\n      <td>...</td>\n      <td>...</td>\n      <td>...</td>\n      <td>...</td>\n      <td>...</td>\n      <td>...</td>\n      <td>...</td>\n      <td>...</td>\n      <td>...</td>\n      <td>...</td>\n    </tr>\n    <tr>\n      <th>595</th>\n      <td>Родионов</td>\n      <td>Михаил</td>\n      <td>Кириллович</td>\n      <td>True</td>\n      <td>12850</td>\n      <td>89270717235</td>\n      <td>838082164</td>\n      <td>RgBhuyo@gmail.com</td>\n      <td>sha256$GP4LAlcWvoXZG4cr$2bfda1ac6883ae20de237c...</td>\n      <td>1</td>\n    </tr>\n    <tr>\n      <th>596</th>\n      <td>Иванова</td>\n      <td>Таисия</td>\n      <td>Константиновна</td>\n      <td>False</td>\n      <td>38541</td>\n      <td>89380030963</td>\n      <td>651566879</td>\n      <td>jAbTDxi@gmail.com</td>\n      <td>sha256$hzvVGne97YHiYMG1$f45c5d60ecacd271a25c72...</td>\n      <td>1</td>\n    </tr>\n    <tr>\n      <th>597</th>\n      <td>Захарова</td>\n      <td>Вероника</td>\n      <td>Никитична</td>\n      <td>False</td>\n      <td>38082</td>\n      <td>89124451789</td>\n      <td>290729844</td>\n      <td>heKUMkZ@gmail.com</td>\n      <td>sha256$JtHP2UBVZ3ZJfIYI$7db7126adf9871d3c98a74...</td>\n      <td>1</td>\n    </tr>\n    <tr>\n      <th>598</th>\n      <td>Алексеева</td>\n      <td>Софья</td>\n      <td>Александровна</td>\n      <td>False</td>\n      <td>9432</td>\n      <td>89173019662</td>\n      <td>478551527</td>\n      <td>MpzFpnV@gmail.com</td>\n      <td>sha256$jj3aiDpZUR2xdfmv$04cca8dc3a3d8e3fd13d90...</td>\n      <td>1</td>\n    </tr>\n    <tr>\n      <th>599</th>\n      <td>Аникина</td>\n      <td>Серафима</td>\n      <td>Тимофеевна</td>\n      <td>False</td>\n      <td>28704</td>\n      <td>89972168223</td>\n      <td>894097091</td>\n      <td>FDpCPvK@gmail.com</td>\n      <td>sha256$kTtdhLScpWzzcXbf$8ebfd2c18f86caebc31a38...</td>\n      <td>1</td>\n    </tr>\n  </tbody>\n</table>\n<p>600 rows × 10 columns</p>\n</div>"
     },
     "execution_count": 5,
     "metadata": {},
     "output_type": "execute_result"
    }
   ],
   "source": [
    "people = pd.read_csv(\"output/people.csv\")\n",
    "people"
   ],
   "metadata": {
    "collapsed": false,
    "ExecuteTime": {
     "end_time": "2023-06-04T09:43:33.721548Z",
     "start_time": "2023-06-04T09:43:33.714147Z"
    }
   }
  },
  {
   "cell_type": "code",
   "execution_count": 6,
   "outputs": [
    {
     "data": {
      "text/plain": "                author_name  author_sex\n0              Will Fellows       False\n1     Deborah Johnson-Simon        True\n2           Allen Rosenberg        True\n3           Allan Rosenberg       False\n4           Time-Life Books        True\n...                     ...         ...\n6995         Hermano Vianna        True\n6996         Gilbert Morris       False\n6997    Ernest B. Furgurson        True\n6998         Gregory Jaynes        True\n6999         Bruce Stillman        True\n\n[7000 rows x 2 columns]",
      "text/html": "<div>\n<style scoped>\n    .dataframe tbody tr th:only-of-type {\n        vertical-align: middle;\n    }\n\n    .dataframe tbody tr th {\n        vertical-align: top;\n    }\n\n    .dataframe thead th {\n        text-align: right;\n    }\n</style>\n<table border=\"1\" class=\"dataframe\">\n  <thead>\n    <tr style=\"text-align: right;\">\n      <th></th>\n      <th>author_name</th>\n      <th>author_sex</th>\n    </tr>\n  </thead>\n  <tbody>\n    <tr>\n      <th>0</th>\n      <td>Will Fellows</td>\n      <td>False</td>\n    </tr>\n    <tr>\n      <th>1</th>\n      <td>Deborah Johnson-Simon</td>\n      <td>True</td>\n    </tr>\n    <tr>\n      <th>2</th>\n      <td>Allen Rosenberg</td>\n      <td>True</td>\n    </tr>\n    <tr>\n      <th>3</th>\n      <td>Allan Rosenberg</td>\n      <td>False</td>\n    </tr>\n    <tr>\n      <th>4</th>\n      <td>Time-Life Books</td>\n      <td>True</td>\n    </tr>\n    <tr>\n      <th>...</th>\n      <td>...</td>\n      <td>...</td>\n    </tr>\n    <tr>\n      <th>6995</th>\n      <td>Hermano Vianna</td>\n      <td>True</td>\n    </tr>\n    <tr>\n      <th>6996</th>\n      <td>Gilbert Morris</td>\n      <td>False</td>\n    </tr>\n    <tr>\n      <th>6997</th>\n      <td>Ernest B. Furgurson</td>\n      <td>True</td>\n    </tr>\n    <tr>\n      <th>6998</th>\n      <td>Gregory Jaynes</td>\n      <td>True</td>\n    </tr>\n    <tr>\n      <th>6999</th>\n      <td>Bruce Stillman</td>\n      <td>True</td>\n    </tr>\n  </tbody>\n</table>\n<p>7000 rows × 2 columns</p>\n</div>"
     },
     "execution_count": 6,
     "metadata": {},
     "output_type": "execute_result"
    }
   ],
   "source": [
    "book_author = pd.DataFrame(data=book.Authors.unique(), columns=['author_name'])\n",
    "author_sex = [random.choice([True, False]) for i in range(book_author.count()[0])]\n",
    "book_author['author_sex'] = author_sex\n",
    "book_author = book_author[:book_author_num]\n",
    "book_author.to_csv(\"output/book_author.csv\", index=False)\n",
    "book_author"
   ],
   "metadata": {
    "collapsed": false,
    "ExecuteTime": {
     "end_time": "2023-06-04T09:43:33.759292Z",
     "start_time": "2023-06-04T09:43:33.723120Z"
    }
   }
  },
  {
   "cell_type": "code",
   "execution_count": 7,
   "outputs": [
    {
     "data": {
      "text/plain": "      book_book_id book_author_author_id\n0             8989                  2207\n1             6822                  4291\n2             6395                  4228\n3             6546                  1564\n4             7382                  4661\n...            ...                   ...\n19995         4255                  5688\n19996         9638                  4748\n19997         7940                  2015\n19998         2488                  6281\n19999         2640                  2938\n\n[20000 rows x 2 columns]",
      "text/html": "<div>\n<style scoped>\n    .dataframe tbody tr th:only-of-type {\n        vertical-align: middle;\n    }\n\n    .dataframe tbody tr th {\n        vertical-align: top;\n    }\n\n    .dataframe thead tr th {\n        text-align: left;\n    }\n</style>\n<table border=\"1\" class=\"dataframe\">\n  <thead>\n    <tr>\n      <th></th>\n      <th>book_book_id</th>\n      <th>book_author_author_id</th>\n    </tr>\n  </thead>\n  <tbody>\n    <tr>\n      <th>0</th>\n      <td>8989</td>\n      <td>2207</td>\n    </tr>\n    <tr>\n      <th>1</th>\n      <td>6822</td>\n      <td>4291</td>\n    </tr>\n    <tr>\n      <th>2</th>\n      <td>6395</td>\n      <td>4228</td>\n    </tr>\n    <tr>\n      <th>3</th>\n      <td>6546</td>\n      <td>1564</td>\n    </tr>\n    <tr>\n      <th>4</th>\n      <td>7382</td>\n      <td>4661</td>\n    </tr>\n    <tr>\n      <th>...</th>\n      <td>...</td>\n      <td>...</td>\n    </tr>\n    <tr>\n      <th>19995</th>\n      <td>4255</td>\n      <td>5688</td>\n    </tr>\n    <tr>\n      <th>19996</th>\n      <td>9638</td>\n      <td>4748</td>\n    </tr>\n    <tr>\n      <th>19997</th>\n      <td>7940</td>\n      <td>2015</td>\n    </tr>\n    <tr>\n      <th>19998</th>\n      <td>2488</td>\n      <td>6281</td>\n    </tr>\n    <tr>\n      <th>19999</th>\n      <td>2640</td>\n      <td>2938</td>\n    </tr>\n  </tbody>\n</table>\n<p>20000 rows × 2 columns</p>\n</div>"
     },
     "execution_count": 7,
     "metadata": {},
     "output_type": "execute_result"
    }
   ],
   "source": [
    "book_book_author = pd.DataFrame(columns=[['book_book_id', 'book_author_author_id']])\n",
    "book_book_id = [random.randint(1, books_num) for i in range(books_num * 2)]\n",
    "book_author_author_id = [random.randint(1, book_author_num) for i in range(books_num * 2)]\n",
    "book_book_author['book_book_id'] = book_book_id\n",
    "book_book_author['book_author_author_id'] = book_author_author_id\n",
    "book_book_author.to_csv(\"output/book_book_author.csv\", index=False)\n",
    "book_book_author"
   ],
   "metadata": {
    "collapsed": false,
    "ExecuteTime": {
     "end_time": "2023-06-04T09:43:33.891788Z",
     "start_time": "2023-06-04T09:43:33.763893Z"
    }
   }
  },
  {
   "cell_type": "code",
   "execution_count": 8,
   "outputs": [
    {
     "data": {
      "text/plain": "             genre_title\n0                 Horror\n1                 Poetry\n2              Self-Help\n3                Fantasy\n4        Science Fiction\n5                Mystery\n6                 Essays\n7            Biographies\n8       Literary Fiction\n9               Suspense\n10         Short Stories\n11              Classics\n12            True Crime\n13    Historical Fiction\n14             Detective\n15               History\n16       Autobiographies\n17            Comic Book\n18               Romance\n19             Thrillers\n20                Memoir\n21  Action and Adventure\n22             Cookbooks",
      "text/html": "<div>\n<style scoped>\n    .dataframe tbody tr th:only-of-type {\n        vertical-align: middle;\n    }\n\n    .dataframe tbody tr th {\n        vertical-align: top;\n    }\n\n    .dataframe thead th {\n        text-align: right;\n    }\n</style>\n<table border=\"1\" class=\"dataframe\">\n  <thead>\n    <tr style=\"text-align: right;\">\n      <th></th>\n      <th>genre_title</th>\n    </tr>\n  </thead>\n  <tbody>\n    <tr>\n      <th>0</th>\n      <td>Horror</td>\n    </tr>\n    <tr>\n      <th>1</th>\n      <td>Poetry</td>\n    </tr>\n    <tr>\n      <th>2</th>\n      <td>Self-Help</td>\n    </tr>\n    <tr>\n      <th>3</th>\n      <td>Fantasy</td>\n    </tr>\n    <tr>\n      <th>4</th>\n      <td>Science Fiction</td>\n    </tr>\n    <tr>\n      <th>5</th>\n      <td>Mystery</td>\n    </tr>\n    <tr>\n      <th>6</th>\n      <td>Essays</td>\n    </tr>\n    <tr>\n      <th>7</th>\n      <td>Biographies</td>\n    </tr>\n    <tr>\n      <th>8</th>\n      <td>Literary Fiction</td>\n    </tr>\n    <tr>\n      <th>9</th>\n      <td>Suspense</td>\n    </tr>\n    <tr>\n      <th>10</th>\n      <td>Short Stories</td>\n    </tr>\n    <tr>\n      <th>11</th>\n      <td>Classics</td>\n    </tr>\n    <tr>\n      <th>12</th>\n      <td>True Crime</td>\n    </tr>\n    <tr>\n      <th>13</th>\n      <td>Historical Fiction</td>\n    </tr>\n    <tr>\n      <th>14</th>\n      <td>Detective</td>\n    </tr>\n    <tr>\n      <th>15</th>\n      <td>History</td>\n    </tr>\n    <tr>\n      <th>16</th>\n      <td>Autobiographies</td>\n    </tr>\n    <tr>\n      <th>17</th>\n      <td>Comic Book</td>\n    </tr>\n    <tr>\n      <th>18</th>\n      <td>Romance</td>\n    </tr>\n    <tr>\n      <th>19</th>\n      <td>Thrillers</td>\n    </tr>\n    <tr>\n      <th>20</th>\n      <td>Memoir</td>\n    </tr>\n    <tr>\n      <th>21</th>\n      <td>Action and Adventure</td>\n    </tr>\n    <tr>\n      <th>22</th>\n      <td>Cookbooks</td>\n    </tr>\n  </tbody>\n</table>\n</div>"
     },
     "execution_count": 8,
     "metadata": {},
     "output_type": "execute_result"
    }
   ],
   "source": [
    "book_genre = pd.DataFrame(data=book.Genre.unique(), columns=['genre_title'])\n",
    "book_genre.to_csv(\"output/book_genre.csv\", index=False)\n",
    "book_genre"
   ],
   "metadata": {
    "collapsed": false,
    "ExecuteTime": {
     "end_time": "2023-06-04T09:43:33.892136Z",
     "start_time": "2023-06-04T09:43:33.785169Z"
    }
   }
  },
  {
   "cell_type": "code",
   "execution_count": 9,
   "outputs": [
    {
     "data": {
      "text/plain": "      book_book_id book_genre_genre_id\n0             7074                   3\n1             2730                   7\n2             7407                  21\n3             2859                   2\n4             8344                  19\n...            ...                 ...\n19995         7768                  11\n19996         4675                   5\n19997         4850                   9\n19998         8753                  18\n19999         6704                  20\n\n[20000 rows x 2 columns]",
      "text/html": "<div>\n<style scoped>\n    .dataframe tbody tr th:only-of-type {\n        vertical-align: middle;\n    }\n\n    .dataframe tbody tr th {\n        vertical-align: top;\n    }\n\n    .dataframe thead tr th {\n        text-align: left;\n    }\n</style>\n<table border=\"1\" class=\"dataframe\">\n  <thead>\n    <tr>\n      <th></th>\n      <th>book_book_id</th>\n      <th>book_genre_genre_id</th>\n    </tr>\n  </thead>\n  <tbody>\n    <tr>\n      <th>0</th>\n      <td>7074</td>\n      <td>3</td>\n    </tr>\n    <tr>\n      <th>1</th>\n      <td>2730</td>\n      <td>7</td>\n    </tr>\n    <tr>\n      <th>2</th>\n      <td>7407</td>\n      <td>21</td>\n    </tr>\n    <tr>\n      <th>3</th>\n      <td>2859</td>\n      <td>2</td>\n    </tr>\n    <tr>\n      <th>4</th>\n      <td>8344</td>\n      <td>19</td>\n    </tr>\n    <tr>\n      <th>...</th>\n      <td>...</td>\n      <td>...</td>\n    </tr>\n    <tr>\n      <th>19995</th>\n      <td>7768</td>\n      <td>11</td>\n    </tr>\n    <tr>\n      <th>19996</th>\n      <td>4675</td>\n      <td>5</td>\n    </tr>\n    <tr>\n      <th>19997</th>\n      <td>4850</td>\n      <td>9</td>\n    </tr>\n    <tr>\n      <th>19998</th>\n      <td>8753</td>\n      <td>18</td>\n    </tr>\n    <tr>\n      <th>19999</th>\n      <td>6704</td>\n      <td>20</td>\n    </tr>\n  </tbody>\n</table>\n<p>20000 rows × 2 columns</p>\n</div>"
     },
     "execution_count": 9,
     "metadata": {},
     "output_type": "execute_result"
    }
   ],
   "source": [
    "book_book_genre = pd.DataFrame(columns=[['book_book_id', 'book_genre_genre_id']])\n",
    "book_book_id = [random.randint(1, books_num) for i in range(books_num * 2)]\n",
    "book_genre_genre_id = [random.randint(1, 23) for i in range(books_num * 2)]\n",
    "book_book_genre['book_book_id'] = book_book_id\n",
    "book_book_genre['book_genre_genre_id'] = book_genre_genre_id\n",
    "book_book_genre.to_csv(\"output/book_book_genre.csv\", index=False)\n",
    "book_book_genre"
   ],
   "metadata": {
    "collapsed": false,
    "ExecuteTime": {
     "end_time": "2023-06-04T09:43:33.925337Z",
     "start_time": "2023-06-04T09:43:33.804310Z"
    }
   }
  },
  {
   "cell_type": "code",
   "execution_count": 10,
   "outputs": [
    {
     "data": {
      "text/plain": "   lang_title\n0         eng\n1         ita\n2         spa\n3         fre\n4         eus\n5         ger\n6         jpn\n7         mul\n8         per\n9         tha\n10        ara\n11         nl\n12        por\n13        rus\n14        tur",
      "text/html": "<div>\n<style scoped>\n    .dataframe tbody tr th:only-of-type {\n        vertical-align: middle;\n    }\n\n    .dataframe tbody tr th {\n        vertical-align: top;\n    }\n\n    .dataframe thead th {\n        text-align: right;\n    }\n</style>\n<table border=\"1\" class=\"dataframe\">\n  <thead>\n    <tr style=\"text-align: right;\">\n      <th></th>\n      <th>lang_title</th>\n    </tr>\n  </thead>\n  <tbody>\n    <tr>\n      <th>0</th>\n      <td>eng</td>\n    </tr>\n    <tr>\n      <th>1</th>\n      <td>ita</td>\n    </tr>\n    <tr>\n      <th>2</th>\n      <td>spa</td>\n    </tr>\n    <tr>\n      <th>3</th>\n      <td>fre</td>\n    </tr>\n    <tr>\n      <th>4</th>\n      <td>eus</td>\n    </tr>\n    <tr>\n      <th>5</th>\n      <td>ger</td>\n    </tr>\n    <tr>\n      <th>6</th>\n      <td>jpn</td>\n    </tr>\n    <tr>\n      <th>7</th>\n      <td>mul</td>\n    </tr>\n    <tr>\n      <th>8</th>\n      <td>per</td>\n    </tr>\n    <tr>\n      <th>9</th>\n      <td>tha</td>\n    </tr>\n    <tr>\n      <th>10</th>\n      <td>ara</td>\n    </tr>\n    <tr>\n      <th>11</th>\n      <td>nl</td>\n    </tr>\n    <tr>\n      <th>12</th>\n      <td>por</td>\n    </tr>\n    <tr>\n      <th>13</th>\n      <td>rus</td>\n    </tr>\n    <tr>\n      <th>14</th>\n      <td>tur</td>\n    </tr>\n  </tbody>\n</table>\n</div>"
     },
     "execution_count": 10,
     "metadata": {},
     "output_type": "execute_result"
    }
   ],
   "source": [
    "book_lang = pd.DataFrame(data=book.Language.unique(), columns=['lang_title'])\n",
    "book_lang.to_csv(\"output/book_lang.csv\", index=False)\n",
    "book_lang"
   ],
   "metadata": {
    "collapsed": false,
    "ExecuteTime": {
     "end_time": "2023-06-04T09:43:33.925615Z",
     "start_time": "2023-06-04T09:43:33.845993Z"
    }
   }
  },
  {
   "cell_type": "code",
   "execution_count": 11,
   "outputs": [
    {
     "data": {
      "text/plain": "      book_book_id book_lang_lang_id\n0             6925                15\n1             1604                15\n2             5825                12\n3             4730                 6\n4             1693                 9\n...            ...               ...\n19995         9480                 9\n19996         3834                13\n19997         1864                 8\n19998         8020                 5\n19999         7327                14\n\n[20000 rows x 2 columns]",
      "text/html": "<div>\n<style scoped>\n    .dataframe tbody tr th:only-of-type {\n        vertical-align: middle;\n    }\n\n    .dataframe tbody tr th {\n        vertical-align: top;\n    }\n\n    .dataframe thead tr th {\n        text-align: left;\n    }\n</style>\n<table border=\"1\" class=\"dataframe\">\n  <thead>\n    <tr>\n      <th></th>\n      <th>book_book_id</th>\n      <th>book_lang_lang_id</th>\n    </tr>\n  </thead>\n  <tbody>\n    <tr>\n      <th>0</th>\n      <td>6925</td>\n      <td>15</td>\n    </tr>\n    <tr>\n      <th>1</th>\n      <td>1604</td>\n      <td>15</td>\n    </tr>\n    <tr>\n      <th>2</th>\n      <td>5825</td>\n      <td>12</td>\n    </tr>\n    <tr>\n      <th>3</th>\n      <td>4730</td>\n      <td>6</td>\n    </tr>\n    <tr>\n      <th>4</th>\n      <td>1693</td>\n      <td>9</td>\n    </tr>\n    <tr>\n      <th>...</th>\n      <td>...</td>\n      <td>...</td>\n    </tr>\n    <tr>\n      <th>19995</th>\n      <td>9480</td>\n      <td>9</td>\n    </tr>\n    <tr>\n      <th>19996</th>\n      <td>3834</td>\n      <td>13</td>\n    </tr>\n    <tr>\n      <th>19997</th>\n      <td>1864</td>\n      <td>8</td>\n    </tr>\n    <tr>\n      <th>19998</th>\n      <td>8020</td>\n      <td>5</td>\n    </tr>\n    <tr>\n      <th>19999</th>\n      <td>7327</td>\n      <td>14</td>\n    </tr>\n  </tbody>\n</table>\n<p>20000 rows × 2 columns</p>\n</div>"
     },
     "execution_count": 11,
     "metadata": {},
     "output_type": "execute_result"
    }
   ],
   "source": [
    "book_book_lang = pd.DataFrame(columns=[['book_book_id', 'book_lang_lang_id']])\n",
    "book_book_id = [random.randint(1, books_num) for i in range(books_num * 2)]\n",
    "book_lang_lang_id = [random.randint(1, book_lang_num) for i in range(books_num * 2)]\n",
    "book_book_lang['book_book_id'] = book_book_id\n",
    "book_book_lang['book_lang_lang_id'] = book_lang_lang_id\n",
    "book_book_lang.to_csv(\"output/book_book_lang.csv\", index=False)\n",
    "book_book_lang"
   ],
   "metadata": {
    "collapsed": false,
    "ExecuteTime": {
     "end_time": "2023-06-04T09:43:33.954088Z",
     "start_time": "2023-06-04T09:43:33.882965Z"
    }
   }
  },
  {
   "cell_type": "code",
   "execution_count": 12,
   "outputs": [
    {
     "data": {
      "text/plain": "                     publisher_name                         publisher_desc\n0     University of Wisconsin Press  Desc of University of Wisconsin Press\n1                       Authorhouse                    Desc of Authorhouse\n2                      Oxmoor House                   Desc of Oxmoor House\n3                 Time Life Medical              Desc of Time Life Medical\n4                      Pocket Books                   Desc of Pocket Books\n...                             ...                                    ...\n2995                  Bobbs-Merrill                  Desc of Bobbs-Merrill\n2996                 Acanthus Press                 Desc of Acanthus Press\n2997     American Geophysical Union     Desc of American Geophysical Union\n2998               Editions Heimdal               Desc of Editions Heimdal\n2999            Combined Publishing            Desc of Combined Publishing\n\n[3000 rows x 2 columns]",
      "text/html": "<div>\n<style scoped>\n    .dataframe tbody tr th:only-of-type {\n        vertical-align: middle;\n    }\n\n    .dataframe tbody tr th {\n        vertical-align: top;\n    }\n\n    .dataframe thead th {\n        text-align: right;\n    }\n</style>\n<table border=\"1\" class=\"dataframe\">\n  <thead>\n    <tr style=\"text-align: right;\">\n      <th></th>\n      <th>publisher_name</th>\n      <th>publisher_desc</th>\n    </tr>\n  </thead>\n  <tbody>\n    <tr>\n      <th>0</th>\n      <td>University of Wisconsin Press</td>\n      <td>Desc of University of Wisconsin Press</td>\n    </tr>\n    <tr>\n      <th>1</th>\n      <td>Authorhouse</td>\n      <td>Desc of Authorhouse</td>\n    </tr>\n    <tr>\n      <th>2</th>\n      <td>Oxmoor House</td>\n      <td>Desc of Oxmoor House</td>\n    </tr>\n    <tr>\n      <th>3</th>\n      <td>Time Life Medical</td>\n      <td>Desc of Time Life Medical</td>\n    </tr>\n    <tr>\n      <th>4</th>\n      <td>Pocket Books</td>\n      <td>Desc of Pocket Books</td>\n    </tr>\n    <tr>\n      <th>...</th>\n      <td>...</td>\n      <td>...</td>\n    </tr>\n    <tr>\n      <th>2995</th>\n      <td>Bobbs-Merrill</td>\n      <td>Desc of Bobbs-Merrill</td>\n    </tr>\n    <tr>\n      <th>2996</th>\n      <td>Acanthus Press</td>\n      <td>Desc of Acanthus Press</td>\n    </tr>\n    <tr>\n      <th>2997</th>\n      <td>American Geophysical Union</td>\n      <td>Desc of American Geophysical Union</td>\n    </tr>\n    <tr>\n      <th>2998</th>\n      <td>Editions Heimdal</td>\n      <td>Desc of Editions Heimdal</td>\n    </tr>\n    <tr>\n      <th>2999</th>\n      <td>Combined Publishing</td>\n      <td>Desc of Combined Publishing</td>\n    </tr>\n  </tbody>\n</table>\n<p>3000 rows × 2 columns</p>\n</div>"
     },
     "execution_count": 12,
     "metadata": {},
     "output_type": "execute_result"
    }
   ],
   "source": [
    "book_publisher = pd.DataFrame(data=book.Publisher.unique(), columns=['publisher_name'])\n",
    "publisher_desc = [f\"Desc of {book_publisher.iloc[i, 0]}\" for i in range(book_publisher.count()[0])]\n",
    "book_publisher['publisher_desc'] = publisher_desc\n",
    "book_publisher = book_publisher[:book_publisher_num]\n",
    "book_publisher.to_csv(\"output/book_publisher.csv\", index=False)\n",
    "book_publisher"
   ],
   "metadata": {
    "collapsed": false,
    "ExecuteTime": {
     "end_time": "2023-06-04T09:43:34.001312Z",
     "start_time": "2023-06-04T09:43:33.906012Z"
    }
   }
  },
  {
   "cell_type": "code",
   "execution_count": 13,
   "outputs": [
    {
     "data": {
      "text/plain": "                                          address_title address_postcode  \\\n0     Upper Street, Stratford St Mary, COLCHESTER, E...          CO7 6LW   \n1          Egremont Street, Glemsford, SUDBURY, Suffolk         CO10 7SA   \n2                       7 Market Hill, SUDBURY, Suffolk         CO10 2EA   \n3     Lower Street, Stratford St Mary, COLCHESTER, E...          CO7 6JS   \n4                Lion Road, Glemsford, SUDBURY, Suffolk         CO10 7RF   \n...                                                 ...              ...   \n9995                             2-3 Creed Lane, London         EC4V 5BR   \n9996              Retail Unit, 8 Devonshire Row, London         EC2M 4RH   \n9997                         60 Holborn Viaduct, London         EC1A 2FD   \n9998                           1 Bow Churchyard, London         EC4M 9DQ   \n9999  The Fleetwood Public House, 36 Wilson Street, ...         EC2M 2TE   \n\n     address_latitude address_longitude  \n0            51.97039          0.979328  \n1           52.094427          0.668408  \n2           52.038683          0.730226  \n3           51.966211          0.972091  \n4           52.102815          0.666893  \n...               ...               ...  \n9995        51.513429         -0.101202  \n9996        51.516935         -0.080142  \n9997        51.516994         -0.103662  \n9998        51.513493         -0.094065  \n9999        51.519428         -0.085241  \n\n[10000 rows x 4 columns]",
      "text/html": "<div>\n<style scoped>\n    .dataframe tbody tr th:only-of-type {\n        vertical-align: middle;\n    }\n\n    .dataframe tbody tr th {\n        vertical-align: top;\n    }\n\n    .dataframe thead th {\n        text-align: right;\n    }\n</style>\n<table border=\"1\" class=\"dataframe\">\n  <thead>\n    <tr style=\"text-align: right;\">\n      <th></th>\n      <th>address_title</th>\n      <th>address_postcode</th>\n      <th>address_latitude</th>\n      <th>address_longitude</th>\n    </tr>\n  </thead>\n  <tbody>\n    <tr>\n      <th>0</th>\n      <td>Upper Street, Stratford St Mary, COLCHESTER, E...</td>\n      <td>CO7 6LW</td>\n      <td>51.97039</td>\n      <td>0.979328</td>\n    </tr>\n    <tr>\n      <th>1</th>\n      <td>Egremont Street, Glemsford, SUDBURY, Suffolk</td>\n      <td>CO10 7SA</td>\n      <td>52.094427</td>\n      <td>0.668408</td>\n    </tr>\n    <tr>\n      <th>2</th>\n      <td>7 Market Hill, SUDBURY, Suffolk</td>\n      <td>CO10 2EA</td>\n      <td>52.038683</td>\n      <td>0.730226</td>\n    </tr>\n    <tr>\n      <th>3</th>\n      <td>Lower Street, Stratford St Mary, COLCHESTER, E...</td>\n      <td>CO7 6JS</td>\n      <td>51.966211</td>\n      <td>0.972091</td>\n    </tr>\n    <tr>\n      <th>4</th>\n      <td>Lion Road, Glemsford, SUDBURY, Suffolk</td>\n      <td>CO10 7RF</td>\n      <td>52.102815</td>\n      <td>0.666893</td>\n    </tr>\n    <tr>\n      <th>...</th>\n      <td>...</td>\n      <td>...</td>\n      <td>...</td>\n      <td>...</td>\n    </tr>\n    <tr>\n      <th>9995</th>\n      <td>2-3 Creed Lane, London</td>\n      <td>EC4V 5BR</td>\n      <td>51.513429</td>\n      <td>-0.101202</td>\n    </tr>\n    <tr>\n      <th>9996</th>\n      <td>Retail Unit, 8 Devonshire Row, London</td>\n      <td>EC2M 4RH</td>\n      <td>51.516935</td>\n      <td>-0.080142</td>\n    </tr>\n    <tr>\n      <th>9997</th>\n      <td>60 Holborn Viaduct, London</td>\n      <td>EC1A 2FD</td>\n      <td>51.516994</td>\n      <td>-0.103662</td>\n    </tr>\n    <tr>\n      <th>9998</th>\n      <td>1 Bow Churchyard, London</td>\n      <td>EC4M 9DQ</td>\n      <td>51.513493</td>\n      <td>-0.094065</td>\n    </tr>\n    <tr>\n      <th>9999</th>\n      <td>The Fleetwood Public House, 36 Wilson Street, ...</td>\n      <td>EC2M 2TE</td>\n      <td>51.519428</td>\n      <td>-0.085241</td>\n    </tr>\n  </tbody>\n</table>\n<p>10000 rows × 4 columns</p>\n</div>"
     },
     "execution_count": 13,
     "metadata": {},
     "output_type": "execute_result"
    }
   ],
   "source": [
    "address = pd.read_csv(\"input/address/open_pubs.csv\").drop([\"fas_id\", \"name\", \"local_authority\", \"easting\", \"northing\"],\n",
    "                                                          axis=1)\n",
    "address.columns = ['address_title', 'address_postcode', 'address_latitude', 'address_longitude']\n",
    "address = address[:10000]\n",
    "address.to_csv(\"output/address.csv\", index=False)\n",
    "address"
   ],
   "metadata": {
    "collapsed": false,
    "ExecuteTime": {
     "end_time": "2023-06-04T09:43:34.118952Z",
     "start_time": "2023-06-04T09:43:33.942585Z"
    }
   }
  },
  {
   "cell_type": "code",
   "execution_count": 13,
   "outputs": [],
   "source": [],
   "metadata": {
    "collapsed": false,
    "ExecuteTime": {
     "end_time": "2023-06-04T09:43:34.137689Z",
     "start_time": "2023-06-04T09:43:34.055612Z"
    }
   }
  }
 ],
 "metadata": {
  "kernelspec": {
   "display_name": "Python 3",
   "language": "python",
   "name": "python3"
  },
  "language_info": {
   "codemirror_mode": {
    "name": "ipython",
    "version": 2
   },
   "file_extension": ".py",
   "mimetype": "text/x-python",
   "name": "python",
   "nbconvert_exporter": "python",
   "pygments_lexer": "ipython2",
   "version": "2.7.6"
  }
 },
 "nbformat": 4,
 "nbformat_minor": 0
}
